{
 "cells": [
  {
   "cell_type": "markdown",
   "metadata": {},
   "source": [
    "# Imports"
   ]
  },
  {
   "cell_type": "code",
   "execution_count": 1,
   "metadata": {},
   "outputs": [],
   "source": [
    "import numpy as np\n",
    "import pandas as pd\n",
    "import xarray as xr\n",
    "import cartopy.crs as ccrs\n",
    "import cartopy.feature as cfeature\n",
    "import matplotlib.pyplot as plt\n",
    "import matplotlib.colors as mcolors\n",
    "from weatherbench2 import config\n",
    "from weatherbench2.evaluation import evaluate_in_memory, evaluate_with_beam\n",
    "from weatherbench2 import metrics\n",
    "from weatherbench2.visualization import set_wb2_style\n",
    "from tqdm import tqdm"
   ]
  },
  {
   "cell_type": "code",
   "execution_count": 2,
   "metadata": {},
   "outputs": [],
   "source": [
    "np.random.seed(0)"
   ]
  },
  {
   "cell_type": "code",
   "execution_count": 3,
   "metadata": {},
   "outputs": [],
   "source": [
    "set_wb2_style()"
   ]
  },
  {
   "cell_type": "code",
   "execution_count": 4,
   "metadata": {},
   "outputs": [],
   "source": [
    "plt.rcParams.update({'font.size': 28})\n",
    "plt.rcParams['mathtext.fontset'] = 'stix'\n",
    "plt.rcParams['font.family'] = 'STIXGeneral'"
   ]
  },
  {
   "cell_type": "markdown",
   "metadata": {
    "tags": []
   },
   "source": [
    "# 64x32"
   ]
  },
  {
   "cell_type": "markdown",
   "metadata": {
    "tags": []
   },
   "source": [
    "## calculate errors"
   ]
  },
  {
   "cell_type": "code",
   "execution_count": null,
   "metadata": {},
   "outputs": [],
   "source": [
    "%%time\n",
    "!python weatherbench2/scripts/evaluate.py \\\n",
    "    --forecast_path=gs://weatherbench2/datasets/pangu/2018-2022_0012_64x32_equiangular_conservative.zarr \\\n",
    "    --obs_path=gs://weatherbench2/datasets/era5/1959-2022-6h-64x32_equiangular_conservative.zarr \\\n",
    "    --climatology_path=gs://weatherbench2/datasets/era5-hourly-climatology/1990-2019_6h_64x32_equiangular_conservative.zarr \\\n",
    "    --time_start=2018-01-01 \\\n",
    "    --time_stop=2021-12-21 \\\n",
    "    --variables=temperature \\\n",
    "    --levels=850 \\\n",
    "    --eval_configs=spatial_temporal_bias \\\n",
    "    --output_dir=/mnt/sda/Data2/wb2/Results_CLS/64x32/Errors/ \\\n",
    "    --output_file_prefix=pangu_vs_era5_2018_2021_ \\\n",
    "    --input_chunks=init_time=128 \\\n",
    "    --use_beam=True \\\n",
    "    --runner=DirectRunner"
   ]
  },
  {
   "cell_type": "code",
   "execution_count": 5,
   "metadata": {},
   "outputs": [],
   "source": [
    "pangu_errors_T850 = xr.open_dataset('Results_CLS/64x32/Errors/pangu_vs_era5_2018_2021_spatial_temporal_bias.nc')"
   ]
  },
  {
   "cell_type": "markdown",
   "metadata": {
    "tags": []
   },
   "source": [
    "## calculate ensemble forecasts (random)"
   ]
  },
  {
   "cell_type": "code",
   "execution_count": 9,
   "metadata": {},
   "outputs": [
    {
     "name": "stdout",
     "output_type": "stream",
     "text": [
      "CPU times: user 44.7 s, sys: 924 ms, total: 45.6 s\n",
      "Wall time: 45.7 s\n"
     ]
    }
   ],
   "source": [
    "%%time\n",
    "# Load forecast and errors datasets\n",
    "pangu_forecast_T850 = xr.open_zarr('gs://weatherbench2/datasets/pangu/2018-2022_0012_64x32_equiangular_conservative.zarr')['temperature'].sel(time=slice('2020-01-01','2020-12-31'), level=850)#.rename({'time': 'init_time'})\n",
    "pangu_errors_T850 = xr.open_dataset('Results_CLS/64x32/Errors/pangu_vs_era5_2018_2021_spatial_temporal_bias.nc').rename({'lead_time': 'prediction_timedelta'}).sel(metric='bias', level=850)\n",
    "pangu_errors_T850_train = xr.concat([pangu_errors_T850['temperature'].sel(init_time=slice('2018-01-01','2019-12-31')), pangu_errors_T850['temperature'].sel(init_time=slice('2021-01-01','2021-12-21'))], dim='init_time')\n",
    "\n",
    "t = pangu_errors_T850_train.sizes['init_time']\n",
    "\n",
    "# Initialize an empty list to store ensemble forecasts\n",
    "ensemble_forecast_datasets = []\n",
    "\n",
    "# Iterate over all time values in pangu_forecast_T850\n",
    "for time in pangu_forecast_T850.time:\n",
    "    \n",
    "    # Select random errors\n",
    "    random_indices = np.random.choice(t, size=10, )\n",
    "    sampled_errors = (\n",
    "        pangu_errors_T850_train.isel(init_time=random_indices)\n",
    "        .drop(['valid_time', 'time'])\n",
    "        .reset_index('init_time', drop=True)\n",
    "        .rename({'init_time': 'number'})\n",
    "        .assign_coords(number=np.arange(len(random_indices)))\n",
    "    )\n",
    "    \n",
    "    # Create an ensemble for each time by adding errors\n",
    "    forecast_datasets = []\n",
    "    for i in sampled_errors.number:\n",
    "        modified_forecast = pangu_forecast_T850.sel(time=time) + sampled_errors.sel(number=i)\n",
    "        forecast_datasets.append(modified_forecast)\n",
    "\n",
    "    # Concatenate individual forecasts to create an ensemble for the current time\n",
    "    ensemble_forecast = xr.concat(forecast_datasets, dim='number')\n",
    "    \n",
    "    # Append the ensemble forecast to the list\n",
    "    ensemble_forecast_datasets.append(ensemble_forecast)\n",
    "\n",
    "# Concatenate all ensemble forecasts along the 'time' dimension\n",
    "ensemble_forecast_T850 = xr.concat(ensemble_forecast_datasets, dim='time')"
   ]
  },
  {
   "cell_type": "code",
   "execution_count": 10,
   "metadata": {},
   "outputs": [],
   "source": [
    "# turn from dataarray to dataset\n",
    "ensemble_forecast_T850 = ensemble_forecast_T850.to_dataset()"
   ]
  },
  {
   "cell_type": "code",
   "execution_count": 11,
   "metadata": {},
   "outputs": [],
   "source": [
    "ensemble_forecast_T850 = ensemble_forecast_T850.drop('level').assign(level=xr.DataArray([850], dims='level'))"
   ]
  },
  {
   "cell_type": "code",
   "execution_count": 18,
   "metadata": {},
   "outputs": [
    {
     "data": {
      "text/plain": [
       "<xarray.backends.zarr.ZarrStore at 0x7f6d5f61ccf0>"
      ]
     },
     "execution_count": 18,
     "metadata": {},
     "output_type": "execute_result"
    }
   ],
   "source": [
    "# save as zarr file \n",
    "# ensemble_forecast_T850.to_zarr('Results_CLS/64x32/Errors/pangu_ensemble_forecast_T850.zarr',mode='w')"
   ]
  },
  {
   "cell_type": "markdown",
   "metadata": {},
   "source": [
    "## evaluate ensemble forecast"
   ]
  },
  {
   "cell_type": "code",
   "execution_count": null,
   "metadata": {},
   "outputs": [],
   "source": [
    "!python weatherbench2/scripts/evaluate.py \\\n",
    "  --forecast_path=Results_CLS/64x32/Errors/pangu_ensemble_forecast_T850.zarr \\\n",
    "  --obs_path=gs://weatherbench2/datasets/era5/1959-2022-6h-64x32_equiangular_conservative.zarr \\\n",
    "  --climatology_path=gs://weatherbench2/datasets/era5-hourly-climatology/1990-2019_6h_64x32_equiangular_conservative.zarr \\\n",
    "  --output_dir=Results_CLS/64x32/Errors/probabilistic/ \\\n",
    "  --output_file_prefix=pangu_error_ens_vs_era5_2020_ \\\n",
    "  --input_chunks=init_time=16 \\\n",
    "  --eval_configs=probabilistic \\\n",
    "  --variables=temperature \\\n",
    "  --levels=850 \\\n",
    "  --use_beam=True \\\n",
    "  --fanout=24 \\\n",
    "  --runner=DirectRunner"
   ]
  },
  {
   "cell_type": "markdown",
   "metadata": {},
   "source": [
    "## evaluate deterministic forecast"
   ]
  },
  {
   "cell_type": "code",
   "execution_count": null,
   "metadata": {},
   "outputs": [],
   "source": [
    "!python weatherbench2/scripts/evaluate.py \\\n",
    "  --forecast_path=gs://weatherbench2/datasets/pangu/2018-2022_0012_64x32_equiangular_conservative.zarr \\\n",
    "  --obs_path=gs://weatherbench2/datasets/era5/1959-2022-6h-64x32_equiangular_conservative.zarr \\\n",
    "  --climatology_path=gs://weatherbench2/datasets/era5-hourly-climatology/1990-2019_6h_64x32_equiangular_conservative.zarr \\\n",
    "  --output_dir=Results_CLS/64x32/Errors/deterministic/ \\\n",
    "  --output_file_prefix=pangu_vs_era5_2020_ \\\n",
    "  --input_chunks=init_time=128 \\\n",
    "  --eval_configs=custom_deterministic \\\n",
    "  --variables=temperature \\\n",
    "  --levels=850 \\\n",
    "  --use_beam=True \\\n",
    "  --fanout=24 \\\n",
    "  --runner=DirectRunner"
   ]
  },
  {
   "cell_type": "markdown",
   "metadata": {},
   "source": [
    "## calculate ensemble forecast (init_time dependent)"
   ]
  },
  {
   "cell_type": "code",
   "execution_count": 11,
   "metadata": {},
   "outputs": [
    {
     "name": "stdout",
     "output_type": "stream",
     "text": [
      "Done: 5\n",
      "Done: 15\n",
      "Done: 30\n"
     ]
    }
   ],
   "source": [
    "pangu_forecast_T850 = xr.open_zarr('gs://weatherbench2/datasets/pangu/2018-2022_0012_64x32_equiangular_conservative.zarr')['temperature'].sel(time=slice('2020-01-01','2020-12-31'), level=850)#.rename({'time': 'init_time'})\n",
    "pangu_errors_T850 = xr.open_dataset('Results_CLS/64x32/Errors/pangu_vs_era5_2018_2021_spatial_temporal_bias.nc').rename({'lead_time': 'prediction_timedelta'}).sel(metric='bias', level=850)\n",
    "pangu_errors_T850_train = xr.concat([pangu_errors_T850['temperature'].sel(init_time=slice(None,'2019-12-31')), pangu_errors_T850['temperature'].sel(init_time=slice('2021-01-01',None))], dim='init_time')\n",
    "\n",
    "windows = [5,15,30]\n",
    "\n",
    "# Get the day of the year for each time in the forecast\n",
    "day_of_year = pangu_forecast_T850['time.dayofyear']\n",
    "\n",
    "for window in windows:\n",
    "    # Initialize an empty list to store ensemble forecasts\n",
    "    ensemble_forecast_datasets = []\n",
    "\n",
    "    # Iterate over all time values in pangu_forecast_T850\n",
    "    for time, doy in zip(pangu_forecast_T850.time, day_of_year):\n",
    "\n",
    "        # Select random errors within ±30 days from the day of the year\n",
    "        valid_indices = np.where((pangu_errors_T850_train['init_time.dayofyear'] >= doy - window) & (pangu_errors_T850_train['init_time.dayofyear'] <= doy + window))[0]\n",
    "        random_indices = np.random.choice(valid_indices, size=10)\n",
    "\n",
    "        sampled_errors = (\n",
    "            pangu_errors_T850_train.isel(init_time=random_indices)\n",
    "            .drop(['valid_time', 'time'])\n",
    "            .reset_index('init_time', drop=True)\n",
    "            .rename({'init_time': 'number'})\n",
    "            .assign_coords(number=np.arange(len(random_indices)))\n",
    "        )\n",
    "\n",
    "        # Create an ensemble for each time by adding errors\n",
    "        forecast_datasets = []\n",
    "        for i in sampled_errors.number:\n",
    "            modified_forecast = pangu_forecast_T850.sel(time=time) + sampled_errors.sel(number=i)\n",
    "            forecast_datasets.append(modified_forecast)\n",
    "\n",
    "        # Concatenate individual forecasts to create an ensemble for the current time\n",
    "        ensemble_forecast = xr.concat(forecast_datasets, dim='number')\n",
    "\n",
    "        # Append the ensemble forecast to the list\n",
    "        ensemble_forecast_datasets.append(ensemble_forecast)\n",
    "    \n",
    "    print('Done:',window)\n",
    "\n",
    "    # Concatenate all ensemble forecasts along the 'time' dimension, turn to dataset and assign 'level' as index\n",
    "    ensemble_forecast_T850 = xr.concat(ensemble_forecast_datasets, dim='time')\n",
    "    ensemble_forecast_T850 = ensemble_forecast_T850.to_dataset()\n",
    "    ensemble_forecast_T850 = ensemble_forecast_T850.drop('level').assign(level=xr.DataArray([850], dims='level'))\n",
    "    ensemble_forecast_T850.to_zarr(f'Results_CLS/64x32/Errors/pangu_ensemble_forecast_timedependent_{window}_T850.zarr',mode='w')"
   ]
  },
  {
   "cell_type": "code",
   "execution_count": null,
   "metadata": {},
   "outputs": [],
   "source": [
    "!python weatherbench2/scripts/evaluate.py \\\n",
    "  --forecast_path=Results_CLS/64x32/Errors/pangu_ensemble_forecast_timedependent_5_T850.zarr \\\n",
    "  --obs_path=gs://weatherbench2/datasets/era5/1959-2022-6h-64x32_equiangular_conservative.zarr \\\n",
    "  --climatology_path=gs://weatherbench2/datasets/era5-hourly-climatology/1990-2019_6h_64x32_equiangular_conservative.zarr \\\n",
    "  --output_dir=Results_CLS/64x32/Errors/probabilistic/ \\\n",
    "  --output_file_prefix=pangu_error_ens_timedependent_5_vs_era5_2020_T850_ \\\n",
    "  --input_chunks=init_time=128 \\\n",
    "  --eval_configs=probabilistic \\\n",
    "  --variables=temperature \\\n",
    "  --levels=850 \\\n",
    "  --use_beam=True \\\n",
    "  --fanout=24 \\\n",
    "  --runner=DirectRunner"
   ]
  },
  {
   "cell_type": "code",
   "execution_count": null,
   "metadata": {},
   "outputs": [],
   "source": [
    "!python weatherbench2/scripts/evaluate.py \\\n",
    "  --forecast_path=Results_CLS/64x32/Errors/pangu_ensemble_forecast_timedependent_15_T850.zarr \\\n",
    "  --obs_path=gs://weatherbench2/datasets/era5/1959-2022-6h-64x32_equiangular_conservative.zarr \\\n",
    "  --climatology_path=gs://weatherbench2/datasets/era5-hourly-climatology/1990-2019_6h_64x32_equiangular_conservative.zarr \\\n",
    "  --output_dir=Results_CLS/64x32/Errors/probabilistic/ \\\n",
    "  --output_file_prefix=pangu_error_ens_timedependent_15_vs_era5_2020_T850_ \\\n",
    "  --input_chunks=init_time=128 \\\n",
    "  --eval_configs=probabilistic \\\n",
    "  --variables=temperature \\\n",
    "  --levels=850 \\\n",
    "  --use_beam=True \\\n",
    "  --fanout=24 \\\n",
    "  --runner=DirectRunner"
   ]
  },
  {
   "cell_type": "code",
   "execution_count": null,
   "metadata": {},
   "outputs": [],
   "source": [
    "!python weatherbench2/scripts/evaluate.py \\\n",
    "  --forecast_path=Results_CLS/64x32/Errors/pangu_ensemble_forecast_timedependent_30_T850.zarr \\\n",
    "  --obs_path=gs://weatherbench2/datasets/era5/1959-2022-6h-64x32_equiangular_conservative.zarr \\\n",
    "  --climatology_path=gs://weatherbench2/datasets/era5-hourly-climatology/1990-2019_6h_64x32_equiangular_conservative.zarr \\\n",
    "  --output_dir=Results_CLS/64x32/Errors/probabilistic/ \\\n",
    "  --output_file_prefix=pangu_error_ens_timedependent_30_vs_era5_2020_T850_ \\\n",
    "  --input_chunks=init_time=128 \\\n",
    "  --eval_configs=probabilistic \\\n",
    "  --variables=temperature \\\n",
    "  --levels=850 \\\n",
    "  --use_beam=True \\\n",
    "  --fanout=24 \\\n",
    "  --runner=DirectRunner"
   ]
  },
  {
   "cell_type": "markdown",
   "metadata": {},
   "source": [
    "## HRES"
   ]
  },
  {
   "cell_type": "code",
   "execution_count": null,
   "metadata": {},
   "outputs": [],
   "source": [
    "%%time\n",
    "!python weatherbench2/scripts/evaluate.py \\\n",
    "    --forecast_path=gs://weatherbench2/datasets/hres/2016-2022-0012-64x32_equiangular_conservative.zarr \\\n",
    "    --obs_path=gs://weatherbench2/datasets/hres_t0/2016-2022-6h-64x32_equiangular_conservative.zarr \\\n",
    "    --climatology_path=gs://weatherbench2/datasets/era5-hourly-climatology/1990-2019_6h_64x32_equiangular_conservative.zarr \\\n",
    "    --time_start=2016-01-01 \\\n",
    "    --time_stop=2022-12-21 \\\n",
    "    --variables=temperature \\\n",
    "    --levels=850 \\\n",
    "    --eval_configs=spatial_temporal_bias \\\n",
    "    --output_dir=/mnt/sda/Data2/wb2/Results_CLS/64x32/Errors/ \\\n",
    "    --output_file_prefix=hres_vs_analysis_2016_2022_temperature_ \\\n",
    "    --input_chunks=init_time=128 \\\n",
    "    --use_beam=True \\\n",
    "    --runner=DirectRunner"
   ]
  },
  {
   "cell_type": "code",
   "execution_count": 110,
   "metadata": {},
   "outputs": [],
   "source": [
    "hres_errors_T850 = xr.open_dataset('Results_CLS/64x32/Errors/hres_vs_analysis_2016_2022_temperature_spatial_temporal_bias.nc').rename({'lead_time': 'prediction_timedelta'}).sel(metric='bias', level=850)"
   ]
  },
  {
   "cell_type": "code",
   "execution_count": 42,
   "metadata": {},
   "outputs": [
    {
     "name": "stdout",
     "output_type": "stream",
     "text": [
      "CPU times: user 44.4 s, sys: 419 ms, total: 44.8 s\n",
      "Wall time: 44.9 s\n"
     ]
    }
   ],
   "source": [
    "%%time\n",
    "# Load forecast and errors datasets\n",
    "hres_forecast_T850 = xr.open_zarr('gs://weatherbench2/datasets/hres/2016-2022-0012-64x32_equiangular_conservative.zarr')['temperature'].sel(time=slice('2020-01-01','2020-12-31'), level=850)#.rename({'time': 'init_time'})\n",
    "hres_errors_T850 = xr.open_dataset('Results_CLS/64x32/Errors/hres_vs_analysis_2016_2022_temperature_spatial_temporal_bias.nc').rename({'lead_time': 'prediction_timedelta'}).sel(metric='bias', level=850)\n",
    "hres_errors_T850_train = xr.concat([hres_errors_T850['temperature'].sel(init_time=slice('2016-01-01','2019-12-31')), hres_errors_T850['temperature'].sel(init_time=slice('2022-01-01','2022-12-21'))], dim='init_time')\n",
    "\n",
    "t = hres_errors_T850_train.sizes['init_time']\n",
    "\n",
    "# Initialize an empty list to store ensemble forecasts\n",
    "ensemble_forecast_datasets = []\n",
    "\n",
    "# Iterate over all time values in hres_forecast_T850\n",
    "for time in hres_forecast_T850.time:\n",
    "    \n",
    "    # Select random errors\n",
    "    random_indices = np.random.choice(t, size=10)\n",
    "    sampled_errors = (\n",
    "        hres_errors_T850_train.isel(init_time=random_indices)\n",
    "        .drop(['valid_time', 'time'])\n",
    "        .reset_index('init_time', drop=True)\n",
    "        .rename({'init_time': 'number'})\n",
    "        .assign_coords(number=np.arange(len(random_indices)))\n",
    "    )\n",
    "    \n",
    "    # Create an ensemble for each time by adding errors\n",
    "    forecast_datasets = []\n",
    "    for i in sampled_errors.number:\n",
    "        modified_forecast = hres_forecast_T850.sel(time=time) + sampled_errors.sel(number=i)\n",
    "        forecast_datasets.append(modified_forecast)\n",
    "\n",
    "    # Concatenate individual forecasts to create an ensemble for the current time\n",
    "    ensemble_forecast = xr.concat(forecast_datasets, dim='number')\n",
    "    \n",
    "    # Append the ensemble forecast to the list\n",
    "    ensemble_forecast_datasets.append(ensemble_forecast)\n",
    "\n",
    "# Concatenate all ensemble forecasts along the 'time' dimension\n",
    "ensemble_forecast_T850 = xr.concat(ensemble_forecast_datasets, dim='time')\n",
    "ensemble_forecast_T850 = ensemble_forecast_T850.to_dataset()\n",
    "ensemble_forecast_T850 = ensemble_forecast_T850.drop('level').assign(level=xr.DataArray([850], dims='level'))"
   ]
  },
  {
   "cell_type": "code",
   "execution_count": 43,
   "metadata": {},
   "outputs": [
    {
     "data": {
      "text/plain": [
       "<xarray.backends.zarr.ZarrStore at 0x7fca5067ee40>"
      ]
     },
     "execution_count": 43,
     "metadata": {},
     "output_type": "execute_result"
    }
   ],
   "source": [
    "ensemble_forecast_T850.to_zarr('Results_CLS/64x32/Errors/hres_ensemble_forecast_T850.zarr',mode='w')"
   ]
  },
  {
   "cell_type": "code",
   "execution_count": null,
   "metadata": {},
   "outputs": [],
   "source": [
    "!python weatherbench2/scripts/evaluate.py \\\n",
    "  --forecast_path=Results_CLS/64x32/Errors/hres_ensemble_forecast_T850.zarr \\\n",
    "  --obs_path=gs://weatherbench2/datasets/hres_t0/2016-2022-6h-64x32_equiangular_conservative.zarr \\\n",
    "  --climatology_path=gs://weatherbench2/datasets/era5-hourly-climatology/1990-2019_6h_64x32_equiangular_conservative.zarr \\\n",
    "  --output_dir=Results_CLS/64x32/Errors/probabilistic/ \\\n",
    "  --output_file_prefix=hres_error_ens_vs_analysis_2020_T850_ \\\n",
    "  --input_chunks=init_time=16 \\\n",
    "  --eval_configs=probabilistic \\\n",
    "  --variables=temperature \\\n",
    "  --levels=850 \\\n",
    "  --use_beam=True \\\n",
    "  --fanout=24 \\\n",
    "  --runner=DirectRunner"
   ]
  },
  {
   "cell_type": "code",
   "execution_count": null,
   "metadata": {},
   "outputs": [],
   "source": [
    "!python weatherbench2/scripts/evaluate.py \\\n",
    "  --forecast_path=gs://weatherbench2/datasets/hres/2016-2022-0012-64x32_equiangular_conservative.zarr \\\n",
    "  --obs_path=gs://weatherbench2/datasets/hres_t0/2016-2022-6h-64x32_equiangular_conservative.zarr \\\n",
    "  --climatology_path=gs://weatherbench2/datasets/era5-hourly-climatology/1990-2019_6h_64x32_equiangular_conservative.zarr \\\n",
    "  --output_dir=Results_CLS/64x32/Errors/deterministic/ \\\n",
    "  --output_file_prefix=hres_vs_analysis_2020_T850_ \\\n",
    "  --input_chunks=init_time=128 \\\n",
    "  --eval_configs=custom_deterministic \\\n",
    "  --variables=temperature \\\n",
    "  --levels=850 \\\n",
    "  --use_beam=True \\\n",
    "  --fanout=24 \\\n",
    "  --runner=DirectRunner"
   ]
  },
  {
   "cell_type": "code",
   "execution_count": 6,
   "metadata": {},
   "outputs": [
    {
     "name": "stdout",
     "output_type": "stream",
     "text": [
      "Done: 5\n",
      "Done: 15\n",
      "Done: 30\n"
     ]
    }
   ],
   "source": [
    "hres_forecast_T850 = xr.open_zarr('gs://weatherbench2/datasets/hres/2016-2022-0012-64x32_equiangular_conservative.zarr')['temperature'].sel(time=slice('2020-01-01','2020-12-31'), level=850)#.rename({'time': 'init_time'})\n",
    "hres_errors_T850 = xr.open_dataset('Results_CLS/64x32/Errors/hres_vs_analysis_2016_2022_temperature_spatial_temporal_bias.nc').rename({'lead_time': 'prediction_timedelta'}).sel(metric='bias', level=850)\n",
    "hres_errors_T850_train = xr.concat([hres_errors_T850['temperature'].sel(init_time=slice(None,'2019-12-31')), hres_errors_T850['temperature'].sel(init_time=slice('2021-01-01',None))], dim='init_time')\n",
    "\n",
    "windows = [5,15,30]\n",
    "\n",
    "# Get the day of the year for each time in the forecast\n",
    "day_of_year = hres_forecast_T850['time.dayofyear']\n",
    "\n",
    "for window in windows:\n",
    "    # Initialize an empty list to store ensemble forecasts\n",
    "    ensemble_forecast_datasets = []\n",
    "\n",
    "    # Iterate over all time values in hres_forecast_T850\n",
    "    for time, doy in zip(hres_forecast_T850.time, day_of_year):\n",
    "\n",
    "        # Select random errors within ±30 days from the day of the year\n",
    "        valid_indices = np.where((hres_errors_T850_train['init_time.dayofyear'] >= doy - window) & (hres_errors_T850_train['init_time.dayofyear'] <= doy + window))[0]\n",
    "        random_indices = np.random.choice(valid_indices, size=10)\n",
    "\n",
    "        sampled_errors = (\n",
    "            hres_errors_T850_train.isel(init_time=random_indices)\n",
    "            .drop(['valid_time', 'time'])\n",
    "            .reset_index('init_time', drop=True)\n",
    "            .rename({'init_time': 'number'})\n",
    "            .assign_coords(number=np.arange(len(random_indices)))\n",
    "        )\n",
    "\n",
    "        # Create an ensemble for each time by adding errors\n",
    "        forecast_datasets = []\n",
    "        for i in sampled_errors.number:\n",
    "            modified_forecast = hres_forecast_T850.sel(time=time) + sampled_errors.sel(number=i)\n",
    "            forecast_datasets.append(modified_forecast)\n",
    "\n",
    "        # Concatenate individual forecasts to create an ensemble for the current time\n",
    "        ensemble_forecast = xr.concat(forecast_datasets, dim='number')\n",
    "\n",
    "        # Append the ensemble forecast to the list\n",
    "        ensemble_forecast_datasets.append(ensemble_forecast)\n",
    "    \n",
    "    print('Done:',window)\n",
    "\n",
    "    # Concatenate all ensemble forecasts along the 'time' dimension, turn to dataset and assign 'level' as index\n",
    "    ensemble_forecast_T850 = xr.concat(ensemble_forecast_datasets, dim='time')\n",
    "    ensemble_forecast_T850 = ensemble_forecast_T850.to_dataset()\n",
    "    ensemble_forecast_T850 = ensemble_forecast_T850.drop('level').assign(level=xr.DataArray([850], dims='level'))\n",
    "    ensemble_forecast_T850.to_zarr(f'Results_CLS/64x32/Errors/hres_ensemble_forecast_timedependent_{window}_T850.zarr',mode='w')"
   ]
  },
  {
   "cell_type": "code",
   "execution_count": null,
   "metadata": {},
   "outputs": [],
   "source": [
    "!python weatherbench2/scripts/evaluate.py \\\n",
    "  --forecast_path=Results_CLS/64x32/Errors/hres_ensemble_forecast_timedependent_5_T850.zarr \\\n",
    "  --obs_path=gs://weatherbench2/datasets/hres_t0/2016-2022-6h-64x32_equiangular_conservative.zarr \\\n",
    "  --climatology_path=gs://weatherbench2/datasets/era5-hourly-climatology/1990-2019_6h_64x32_equiangular_conservative.zarr \\\n",
    "  --output_dir=Results_CLS/64x32/Errors/probabilistic/ \\\n",
    "  --output_file_prefix=hres_error_ens_timedependent_5_vs_era5_2020_T850_ \\\n",
    "  --input_chunks=init_time=32 \\\n",
    "  --eval_configs=probabilistic \\\n",
    "  --variables=temperature \\\n",
    "  --levels=850 \\\n",
    "  --use_beam=True \\\n",
    "  --fanout=24 \\\n",
    "  --runner=DirectRunner"
   ]
  },
  {
   "cell_type": "code",
   "execution_count": null,
   "metadata": {},
   "outputs": [],
   "source": [
    "!python weatherbench2/scripts/evaluate.py \\\n",
    "  --forecast_path=Results_CLS/64x32/Errors/hres_ensemble_forecast_timedependent_15_T850.zarr \\\n",
    "  --obs_path=gs://weatherbench2/datasets/hres_t0/2016-2022-6h-64x32_equiangular_conservative.zarr \\\n",
    "  --climatology_path=gs://weatherbench2/datasets/era5-hourly-climatology/1990-2019_6h_64x32_equiangular_conservative.zarr \\\n",
    "  --output_dir=Results_CLS/64x32/Errors/probabilistic/ \\\n",
    "  --output_file_prefix=hres_error_ens_timedependent_15_vs_era5_2020_T850_ \\\n",
    "  --input_chunks=init_time=32 \\\n",
    "  --eval_configs=probabilistic \\\n",
    "  --variables=temperature \\\n",
    "  --levels=850 \\\n",
    "  --use_beam=True \\\n",
    "  --fanout=24 \\\n",
    "  --runner=DirectRunner"
   ]
  },
  {
   "cell_type": "code",
   "execution_count": null,
   "metadata": {},
   "outputs": [],
   "source": [
    "!python weatherbench2/scripts/evaluate.py \\\n",
    "  --forecast_path=Results_CLS/64x32/Errors/hres_ensemble_forecast_timedependent_30_T850.zarr \\\n",
    "  --obs_path=gs://weatherbench2/datasets/hres_t0/2016-2022-6h-64x32_equiangular_conservative.zarr \\\n",
    "  --climatology_path=gs://weatherbench2/datasets/era5-hourly-climatology/1990-2019_6h_64x32_equiangular_conservative.zarr \\\n",
    "  --output_dir=Results_CLS/64x32/Errors/probabilistic/ \\\n",
    "  --output_file_prefix=hres_error_ens_timedependent_30_vs_era5_2020_T850_ \\\n",
    "  --input_chunks=init_time=32 \\\n",
    "  --eval_configs=probabilistic \\\n",
    "  --variables=temperature \\\n",
    "  --levels=850 \\\n",
    "  --use_beam=True \\\n",
    "  --fanout=24 \\\n",
    "  --runner=DirectRunner"
   ]
  },
  {
   "cell_type": "markdown",
   "metadata": {},
   "source": [
    "## GraphCast"
   ]
  },
  {
   "cell_type": "code",
   "execution_count": null,
   "metadata": {},
   "outputs": [],
   "source": [
    "%%time\n",
    "!python weatherbench2/scripts/evaluate.py \\\n",
    "    --forecast_path=gs://weatherbench2/datasets/graphcast/2018/date_range_2017-11-16_2019-02-01_12_hours-64x32_equiangular_conservative.zarr \\\n",
    "    --obs_path=gs://weatherbench2/datasets/era5/1959-2023_01_10-6h-64x32_equiangular_conservative.zarr \\\n",
    "    --climatology_path=gs://weatherbench2/datasets/era5-hourly-climatology/1990-2019_6h_64x32_equiangular_conservative.zarr \\\n",
    "    --time_start=2017-11-16 \\\n",
    "    --time_stop=2019-01-31 \\\n",
    "    --variables=temperature \\\n",
    "    --levels=850 \\\n",
    "    --eval_configs=spatial_temporal_bias \\\n",
    "    --output_dir=/mnt/sda/Data2/wb2/Results_CLS/64x32/Errors/ \\\n",
    "    --output_file_prefix=graphcast_vs_era5_2018_2019_temperature_ \\\n",
    "    --input_chunks=init_time=128 \\\n",
    "    --use_beam=True \\\n",
    "    --runner=DirectRunner"
   ]
  },
  {
   "cell_type": "code",
   "execution_count": null,
   "metadata": {},
   "outputs": [],
   "source": [
    "%%time\n",
    "!python weatherbench2/scripts/evaluate.py \\\n",
    "    --forecast_path=gs://weatherbench2/datasets/graphcast/2020/date_range_2019-11-16_2021-02-01_12_hours-64x32_equiangular_conservative.zarr \\\n",
    "    --obs_path=gs://weatherbench2/datasets/era5/1959-2023_01_10-6h-64x32_equiangular_conservative.zarr \\\n",
    "    --climatology_path=gs://weatherbench2/datasets/era5-hourly-climatology/1990-2019_6h_64x32_equiangular_conservative.zarr \\\n",
    "    --time_start=2019-11-16 \\\n",
    "    --time_stop=2021-01-31 \\\n",
    "    --variables=temperature \\\n",
    "    --levels=850 \\\n",
    "    --eval_configs=spatial_temporal_bias \\\n",
    "    --output_dir=/mnt/sda/Data2/wb2/Results_CLS/64x32/Errors/ \\\n",
    "    --output_file_prefix=graphcast_vs_era5_2020_2021_temperature_ \\\n",
    "    --input_chunks=init_time=128 \\\n",
    "    --use_beam=True \\\n",
    "    --runner=DirectRunner"
   ]
  },
  {
   "cell_type": "code",
   "execution_count": 18,
   "metadata": {},
   "outputs": [],
   "source": [
    "graphcast_errors_T850 = xr.concat([xr.open_dataset('Results_CLS/64x32/Errors/graphcast_vs_era5_2018_2019_temperature_spatial_temporal_bias.nc'), xr.open_dataset('Results_CLS/64x32/Errors/graphcast_vs_era5_2020_2021_temperature_spatial_temporal_bias.nc')],dim='init_time').rename({'lead_time': 'prediction_timedelta'}).sel(metric='bias', level=850)"
   ]
  },
  {
   "cell_type": "code",
   "execution_count": 21,
   "metadata": {},
   "outputs": [],
   "source": [
    "graphcast_forecast_T850 = xr.open_zarr('gs://weatherbench2/datasets/graphcast/2020/date_range_2019-11-16_2021-02-01_12_hours-64x32_equiangular_conservative.zarr')['temperature'].sel(time=slice('2020-01-01','2020-12-31'), level=850)\n",
    "\n",
    "graphcast_errors_T850_train = xr.concat([graphcast_errors_T850['temperature'].sel(init_time=slice(None,'2019-12-31')), graphcast_errors_T850['temperature'].sel(init_time=slice('2021-01-01',None))], dim='init_time')\n",
    "\n",
    "t = graphcast_errors_T850_train.sizes['init_time']\n",
    "\n",
    "# Initialize an empty list to store ensemble forecasts\n",
    "ensemble_forecast_datasets = []\n",
    "\n",
    "# Iterate over all time values in graphcast_forecast_T850\n",
    "for time in graphcast_forecast_T850.time:\n",
    "    \n",
    "    # Select random errors\n",
    "    random_indices = np.random.choice(t, size=10)\n",
    "    sampled_errors = (\n",
    "        graphcast_errors_T850_train.isel(init_time=random_indices)\n",
    "        .drop(['valid_time', 'time'])\n",
    "        .reset_index('init_time', drop=True)\n",
    "        .rename({'init_time': 'number'})\n",
    "        .assign_coords(number=np.arange(len(random_indices)))\n",
    "    )\n",
    "    \n",
    "    # Create an ensemble for each time by adding errors\n",
    "    forecast_datasets = []\n",
    "    for i in sampled_errors.number:\n",
    "        modified_forecast = graphcast_forecast_T850.sel(time=time) + sampled_errors.sel(number=i)\n",
    "        forecast_datasets.append(modified_forecast)\n",
    "\n",
    "    # Concatenate individual forecasts to create an ensemble for the current time\n",
    "    ensemble_forecast = xr.concat(forecast_datasets, dim='number')\n",
    "    \n",
    "    # Append the ensemble forecast to the list\n",
    "    ensemble_forecast_datasets.append(ensemble_forecast)\n",
    "\n",
    "# Concatenate all ensemble forecasts along the 'time' dimension\n",
    "ensemble_forecast_T850 = xr.concat(ensemble_forecast_datasets, dim='time')\n",
    "ensemble_forecast_T850 = ensemble_forecast_T850.to_dataset()\n",
    "ensemble_forecast_T850 = ensemble_forecast_T850.drop('level').assign(level=xr.DataArray([850], dims='level'))"
   ]
  },
  {
   "cell_type": "code",
   "execution_count": 22,
   "metadata": {},
   "outputs": [
    {
     "name": "stdout",
     "output_type": "stream",
     "text": [
      "CPU times: user 10min 35s, sys: 2min 51s, total: 13min 27s\n",
      "Wall time: 10min 9s\n"
     ]
    },
    {
     "data": {
      "text/plain": [
       "<xarray.backends.zarr.ZarrStore at 0x7f4563113190>"
      ]
     },
     "execution_count": 22,
     "metadata": {},
     "output_type": "execute_result"
    }
   ],
   "source": [
    "%%time\n",
    "ensemble_forecast_T850.to_zarr('Results_CLS/64x32/Errors/graphcast_ensemble_forecast_T850.zarr',mode='w')"
   ]
  },
  {
   "cell_type": "code",
   "execution_count": null,
   "metadata": {},
   "outputs": [],
   "source": [
    "%%time\n",
    "!python weatherbench2/scripts/evaluate.py \\\n",
    "    --forecast_path=Results_CLS/64x32/Errors/graphcast_ensemble_forecast_T850.zarr \\\n",
    "    --obs_path=gs://weatherbench2/datasets/era5/1959-2023_01_10-6h-64x32_equiangular_conservative.zarr \\\n",
    "    --climatology_path=gs://weatherbench2/datasets/era5-hourly-climatology/1990-2019_6h_64x32_equiangular_conservative.zarr \\\n",
    "    --variables=temperature \\\n",
    "    --levels=850 \\\n",
    "    --eval_configs=probabilistic \\\n",
    "    --output_dir=Results_CLS/64x32/Errors/probabilistic/ \\\n",
    "    --output_file_prefix=graphcast_error_ens_vs_era5_2020_T850_ \\\n",
    "    --input_chunks=init_time=16 \\\n",
    "    --use_beam=True \\\n",
    "    --runner=DirectRunner"
   ]
  },
  {
   "cell_type": "code",
   "execution_count": null,
   "metadata": {},
   "outputs": [],
   "source": [
    "!python weatherbench2/scripts/evaluate.py \\\n",
    "  --forecast_path=gs://weatherbench2/datasets/graphcast/2020/date_range_2019-11-16_2021-02-01_12_hours-64x32_equiangular_conservative.zarr \\\n",
    "  --obs_path=gs://weatherbench2/datasets/era5/1959-2022-6h-64x32_equiangular_conservative.zarr \\\n",
    "  --climatology_path=gs://weatherbench2/datasets/era5-hourly-climatology/1990-2019_6h_64x32_equiangular_conservative.zarr \\\n",
    "  --output_dir=Results_CLS/64x32/Errors/deterministic/ \\\n",
    "  --output_file_prefix=graphcast_vs_era5_2020_ \\\n",
    "  --input_chunks=init_time=128 \\\n",
    "  --eval_configs=deterministic \\\n",
    "  --variables=temperature \\\n",
    "  --levels=850 \\\n",
    "  --use_beam=True \\\n",
    "  --fanout=24 \\\n",
    "  --runner=DirectRunner"
   ]
  },
  {
   "cell_type": "code",
   "execution_count": 21,
   "metadata": {},
   "outputs": [
    {
     "name": "stdout",
     "output_type": "stream",
     "text": [
      "Done: 5\n",
      "Done: 15\n",
      "Done: 30\n"
     ]
    }
   ],
   "source": [
    "graphcast_forecast_T850 = xr.open_zarr('gs://weatherbench2/datasets/graphcast/2020/date_range_2019-11-16_2021-02-01_12_hours-64x32_equiangular_conservative.zarr')['temperature'].sel(time=slice('2020-01-01','2020-12-31'), level=850)#.rename({'time': 'init_time'})\n",
    "graphcast_errors_T850 = xr.concat([xr.open_dataset('Results_CLS/64x32/Errors/graphcast_vs_era5_2018_2019_temperature_spatial_temporal_bias.nc'), xr.open_dataset('Results_CLS/64x32/Errors/graphcast_vs_era5_2020_2021_temperature_spatial_temporal_bias.nc')],dim='init_time').rename({'lead_time': 'prediction_timedelta'}).sel(metric='bias', level=850)\n",
    "graphcast_errors_T850_train = xr.concat([graphcast_errors_T850['temperature'].sel(init_time=slice(None,'2019-12-31')), graphcast_errors_T850['temperature'].sel(init_time=slice('2021-01-01',None))], dim='init_time')\n",
    "\n",
    "windows = [5,15,30]\n",
    "\n",
    "# Get the day of the year for each time in the forecast\n",
    "day_of_year = graphcast_forecast_T850['time.dayofyear']\n",
    "\n",
    "for window in windows:\n",
    "    # Initialize an empty list to store ensemble forecasts\n",
    "    ensemble_forecast_datasets = []\n",
    "\n",
    "    # Iterate over all time values in graphcast_forecast_T850\n",
    "    for time, doy in zip(graphcast_forecast_T850.time, day_of_year):\n",
    "\n",
    "        # Select random errors within ±30 days from the day of the year\n",
    "        valid_indices = np.where((graphcast_errors_T850_train['init_time.dayofyear'] >= doy - window) & (graphcast_errors_T850_train['init_time.dayofyear'] <= doy + window))[0]\n",
    "        random_indices = np.random.choice(valid_indices, size=10)\n",
    "\n",
    "        sampled_errors = (\n",
    "            graphcast_errors_T850_train.isel(init_time=random_indices)\n",
    "            .drop(['valid_time', 'time'])\n",
    "            .reset_index('init_time', drop=True)\n",
    "            .rename({'init_time': 'number'})\n",
    "            .assign_coords(number=np.arange(len(random_indices)))\n",
    "        )\n",
    "\n",
    "        # Create an ensemble for each time by adding errors\n",
    "        forecast_datasets = []\n",
    "        for i in sampled_errors.number:\n",
    "            modified_forecast = graphcast_forecast_T850.sel(time=time) + sampled_errors.sel(number=i)\n",
    "            forecast_datasets.append(modified_forecast)\n",
    "\n",
    "        # Concatenate individual forecasts to create an ensemble for the current time\n",
    "        ensemble_forecast = xr.concat(forecast_datasets, dim='number')\n",
    "\n",
    "        # Append the ensemble forecast to the list\n",
    "        ensemble_forecast_datasets.append(ensemble_forecast)\n",
    "    \n",
    "    print('Done:',window)\n",
    "\n",
    "    # Concatenate all ensemble forecasts along the 'time' dimension, turn to dataset and assign 'level' as index\n",
    "    ensemble_forecast_T850 = xr.concat(ensemble_forecast_datasets, dim='time')\n",
    "    ensemble_forecast_T850 = ensemble_forecast_T850.to_dataset()\n",
    "    ensemble_forecast_T850 = ensemble_forecast_T850.drop('level').assign(level=xr.DataArray([850], dims='level'))\n",
    "    ensemble_forecast_T850.to_zarr(f'Results_CLS/64x32/Errors/graphcast_ensemble_forecast_timedependent_{window}_T850.zarr',mode='w')"
   ]
  },
  {
   "cell_type": "code",
   "execution_count": null,
   "metadata": {},
   "outputs": [],
   "source": [
    "!python weatherbench2/scripts/evaluate.py \\\n",
    "  --forecast_path=Results_CLS/64x32/Errors/graphcast_ensemble_forecast_timedependent_5_T850.zarr \\\n",
    "  --obs_path=gs://weatherbench2/datasets/era5/1959-2022-6h-64x32_equiangular_conservative.zarr \\\n",
    "  --climatology_path=gs://weatherbench2/datasets/era5-hourly-climatology/1990-2019_6h_64x32_equiangular_conservative.zarr \\\n",
    "  --output_dir=Results_CLS/64x32/Errors/probabilistic/ \\\n",
    "  --output_file_prefix=graphcast_error_ens_timedependent_5_vs_era5_2020_T850_ \\\n",
    "  --input_chunks=init_time=128 \\\n",
    "  --eval_configs=probabilistic \\\n",
    "  --variables=temperature \\\n",
    "  --levels=850 \\\n",
    "  --use_beam=True \\\n",
    "  --fanout=24 \\\n",
    "  --runner=DirectRunner"
   ]
  },
  {
   "cell_type": "code",
   "execution_count": null,
   "metadata": {},
   "outputs": [],
   "source": [
    "!python weatherbench2/scripts/evaluate.py \\\n",
    "  --forecast_path=Results_CLS/64x32/Errors/graphcast_ensemble_forecast_timedependent_15_T850.zarr \\\n",
    "  --obs_path=gs://weatherbench2/datasets/era5/1959-2022-6h-64x32_equiangular_conservative.zarr \\\n",
    "  --climatology_path=gs://weatherbench2/datasets/era5-hourly-climatology/1990-2019_6h_64x32_equiangular_conservative.zarr \\\n",
    "  --output_dir=Results_CLS/64x32/Errors/probabilistic/ \\\n",
    "  --output_file_prefix=graphcast_error_ens_timedependent_15_vs_era5_2020_T850_ \\\n",
    "  --input_chunks=init_time=128 \\\n",
    "  --eval_configs=probabilistic \\\n",
    "  --variables=temperature \\\n",
    "  --levels=850 \\\n",
    "  --use_beam=True \\\n",
    "  --fanout=24 \\\n",
    "  --runner=DirectRunner"
   ]
  },
  {
   "cell_type": "code",
   "execution_count": null,
   "metadata": {},
   "outputs": [],
   "source": [
    "!python weatherbench2/scripts/evaluate.py \\\n",
    "  --forecast_path=Results_CLS/64x32/Errors/graphcast_ensemble_forecast_timedependent_30_T850.zarr \\\n",
    "  --obs_path=gs://weatherbench2/datasets/era5/1959-2022-6h-64x32_equiangular_conservative.zarr \\\n",
    "  --climatology_path=gs://weatherbench2/datasets/era5-hourly-climatology/1990-2019_6h_64x32_equiangular_conservative.zarr \\\n",
    "  --output_dir=Results_CLS/64x32/Errors/probabilistic/ \\\n",
    "  --output_file_prefix=graphcast_error_ens_timedependent_30_vs_era5_2020_T850_ \\\n",
    "  --input_chunks=init_time=128 \\\n",
    "  --eval_configs=probabilistic \\\n",
    "  --variables=temperature \\\n",
    "  --levels=850 \\\n",
    "  --use_beam=True \\\n",
    "  --fanout=24 \\\n",
    "  --runner=DirectRunner"
   ]
  },
  {
   "cell_type": "markdown",
   "metadata": {},
   "source": [
    "# 50 Member"
   ]
  },
  {
   "cell_type": "markdown",
   "metadata": {},
   "source": [
    "## Pangu"
   ]
  },
  {
   "cell_type": "code",
   "execution_count": 3,
   "metadata": {},
   "outputs": [
    {
     "name": "stdout",
     "output_type": "stream",
     "text": [
      "CPU times: user 3min 31s, sys: 2.5 s, total: 3min 34s\n",
      "Wall time: 3min 44s\n"
     ]
    }
   ],
   "source": [
    "%%time\n",
    "# Load forecast and errors datasets\n",
    "pangu_forecast_T850 = xr.open_zarr('gs://weatherbench2/datasets/pangu/2018-2022_0012_64x32_equiangular_conservative.zarr')['temperature'].sel(time=slice('2020-01-01','2020-12-31'), level=850)#.rename({'time': 'init_time'})\n",
    "pangu_errors_T850 = xr.open_dataset('Results_CLS/64x32/Errors/pangu_vs_era5_2018_2021_spatial_temporal_bias.nc').rename({'lead_time': 'prediction_timedelta'}).sel(metric='bias', level=850)\n",
    "pangu_errors_T850_train = xr.concat([pangu_errors_T850['temperature'].sel(init_time=slice('2018-01-01','2019-12-31')), pangu_errors_T850['temperature'].sel(init_time=slice('2021-01-01','2021-12-21'))], dim='init_time')\n",
    "\n",
    "t = pangu_errors_T850_train.sizes['init_time']\n",
    "\n",
    "# Initialize an empty list to store ensemble forecasts\n",
    "ensemble_forecast_datasets = []\n",
    "\n",
    "# Iterate over all time values in pangu_forecast_T850\n",
    "for time in pangu_forecast_T850.time:\n",
    "    \n",
    "    # Select random errors\n",
    "    random_indices = np.random.choice(t, size=50)\n",
    "    sampled_errors = (\n",
    "        pangu_errors_T850_train.isel(init_time=random_indices)\n",
    "        .drop(['valid_time', 'time'])\n",
    "        .reset_index('init_time', drop=True)\n",
    "        .rename({'init_time': 'number'})\n",
    "        .assign_coords(number=np.arange(len(random_indices)))\n",
    "    )\n",
    "    \n",
    "    # Create an ensemble for each time by adding errors\n",
    "    forecast_datasets = []\n",
    "    for i in sampled_errors.number:\n",
    "        modified_forecast = pangu_forecast_T850.sel(time=time) + sampled_errors.sel(number=i)\n",
    "        forecast_datasets.append(modified_forecast)\n",
    "\n",
    "    # Concatenate individual forecasts to create an ensemble for the current time\n",
    "    ensemble_forecast = xr.concat(forecast_datasets, dim='number')\n",
    "    \n",
    "    # Append the ensemble forecast to the list\n",
    "    ensemble_forecast_datasets.append(ensemble_forecast)\n",
    "\n",
    "# Concatenate all ensemble forecasts along the 'time' dimension\n",
    "ensemble_forecast_T850 = xr.concat(ensemble_forecast_datasets, dim='time')\n",
    "ensemble_forecast_T850 = ensemble_forecast_T850.to_dataset()\n",
    "ensemble_forecast_T850 = ensemble_forecast_T850.drop('level').assign(level=xr.DataArray([850], dims='level'))"
   ]
  },
  {
   "cell_type": "code",
   "execution_count": 9,
   "metadata": {},
   "outputs": [
    {
     "name": "stdout",
     "output_type": "stream",
     "text": [
      "CPU times: user 49min 10s, sys: 14min 23s, total: 1h 3min 34s\n",
      "Wall time: 44min 51s\n"
     ]
    },
    {
     "data": {
      "text/plain": [
       "<xarray.backends.zarr.ZarrStore at 0x7fa7bfca6890>"
      ]
     },
     "execution_count": 9,
     "metadata": {},
     "output_type": "execute_result"
    }
   ],
   "source": [
    "%%time\n",
    "ensemble_forecast_T850.to_zarr('Results_CLS/64x32/Errors/pangu_50_ensemble_forecast_T850.zarr',mode='w')"
   ]
  },
  {
   "cell_type": "code",
   "execution_count": null,
   "metadata": {},
   "outputs": [],
   "source": [
    "!python weatherbench2/scripts/evaluate.py \\\n",
    "  --forecast_path=Results_CLS/64x32/Errors/pangu_50_ensemble_forecast_T850.zarr \\\n",
    "  --obs_path=gs://weatherbench2/datasets/era5/1959-2022-6h-64x32_equiangular_conservative.zarr \\\n",
    "  --climatology_path=gs://weatherbench2/datasets/era5-hourly-climatology/1990-2019_6h_64x32_equiangular_conservative.zarr \\\n",
    "  --output_dir=Results_CLS/64x32/Errors/probabilistic/ \\\n",
    "  --output_file_prefix=pangu_error_ens_50_vs_era5_2020_ \\\n",
    "  --input_chunks=init_time=16 \\\n",
    "  --eval_configs=probabilistic \\\n",
    "  --variables=temperature \\\n",
    "  --levels=850 \\\n",
    "  --use_beam=True \\\n",
    "  --fanout=24 \\\n",
    "  --runner=DirectRunner"
   ]
  },
  {
   "cell_type": "markdown",
   "metadata": {},
   "source": [
    "## HRES"
   ]
  },
  {
   "cell_type": "code",
   "execution_count": 4,
   "metadata": {},
   "outputs": [
    {
     "name": "stdout",
     "output_type": "stream",
     "text": [
      "CPU times: user 3min 32s, sys: 3.36 s, total: 3min 35s\n",
      "Wall time: 3min 47s\n"
     ]
    }
   ],
   "source": [
    "%%time\n",
    "# Load forecast and errors datasets\n",
    "hres_forecast_T850 = xr.open_zarr('gs://weatherbench2/datasets/hres/2016-2022-0012-64x32_equiangular_conservative.zarr')['temperature'].sel(time=slice('2020-01-01','2020-12-31'), level=850)#.rename({'time': 'init_time'})\n",
    "hres_errors_T850 = xr.open_dataset('Results_CLS/64x32/Errors/hres_vs_analysis_2016_2022_temperature_spatial_temporal_bias.nc').rename({'lead_time': 'prediction_timedelta'}).sel(metric='bias', level=850)\n",
    "hres_errors_T850_train = xr.concat([hres_errors_T850['temperature'].sel(init_time=slice('2016-01-01','2019-12-31')), hres_errors_T850['temperature'].sel(init_time=slice('2022-01-01','2022-12-21'))], dim='init_time')\n",
    "\n",
    "t = hres_errors_T850_train.sizes['init_time']\n",
    "\n",
    "# Initialize an empty list to store ensemble forecasts\n",
    "ensemble_forecast_datasets = []\n",
    "\n",
    "# Iterate over all time values in hres_forecast_T850\n",
    "for time in hres_forecast_T850.time:\n",
    "    \n",
    "    # Select random errors\n",
    "    random_indices = np.random.choice(t, size=50)\n",
    "    sampled_errors = (\n",
    "        hres_errors_T850_train.isel(init_time=random_indices)\n",
    "        .drop(['valid_time', 'time'])\n",
    "        .reset_index('init_time', drop=True)\n",
    "        .rename({'init_time': 'number'})\n",
    "        .assign_coords(number=np.arange(len(random_indices)))\n",
    "    )\n",
    "    \n",
    "    # Create an ensemble for each time by adding errors\n",
    "    forecast_datasets = []\n",
    "    for i in sampled_errors.number:\n",
    "        modified_forecast = hres_forecast_T850.sel(time=time) + sampled_errors.sel(number=i)\n",
    "        forecast_datasets.append(modified_forecast)\n",
    "\n",
    "    # Concatenate individual forecasts to create an ensemble for the current time\n",
    "    ensemble_forecast = xr.concat(forecast_datasets, dim='number')\n",
    "    \n",
    "    # Append the ensemble forecast to the list\n",
    "    ensemble_forecast_datasets.append(ensemble_forecast)\n",
    "\n",
    "# Concatenate all ensemble forecasts along the 'time' dimension\n",
    "ensemble_forecast_T850 = xr.concat(ensemble_forecast_datasets, dim='time')\n",
    "ensemble_forecast_T850 = ensemble_forecast_T850.to_dataset()\n",
    "ensemble_forecast_T850 = ensemble_forecast_T850.drop('level').assign(level=xr.DataArray([850], dims='level'))"
   ]
  },
  {
   "cell_type": "code",
   "execution_count": 5,
   "metadata": {},
   "outputs": [
    {
     "data": {
      "text/plain": [
       "<xarray.backends.zarr.ZarrStore at 0x7f34ef147a50>"
      ]
     },
     "execution_count": 5,
     "metadata": {},
     "output_type": "execute_result"
    }
   ],
   "source": [
    "ensemble_forecast_T850.to_zarr('Results_CLS/64x32/Errors/hres_50_ensemble_forecast_T850.zarr',mode='w')"
   ]
  },
  {
   "cell_type": "code",
   "execution_count": null,
   "metadata": {},
   "outputs": [],
   "source": [
    "!python weatherbench2/scripts/evaluate.py \\\n",
    "  --forecast_path=Results_CLS/64x32/Errors/hres_50_ensemble_forecast_T850.zarr \\\n",
    "  --obs_path=gs://weatherbench2/datasets/hres_t0/2016-2022-6h-64x32_equiangular_conservative.zarr \\\n",
    "  --climatology_path=gs://weatherbench2/datasets/era5-hourly-climatology/1990-2019_6h_64x32_equiangular_conservative.zarr \\\n",
    "  --output_dir=Results_CLS/64x32/Errors/probabilistic/ \\\n",
    "  --output_file_prefix=hres_error_ens_50_vs_analysis_2020_T850_ \\\n",
    "  --input_chunks=init_time=16 \\\n",
    "  --eval_configs=probabilistic \\\n",
    "  --variables=temperature \\\n",
    "  --levels=850 \\\n",
    "  --use_beam=True \\\n",
    "  --fanout=24 \\\n",
    "  --runner=DirectRunner"
   ]
  },
  {
   "cell_type": "code",
   "execution_count": null,
   "metadata": {},
   "outputs": [],
   "source": [
    "# evaluate NeuaralGCM\n",
    "!python weatherbench2/scripts/evaluate.py \\\n",
    "  --forecast_path=gs://weatherbench2/datasets/neuralgcm_ens/2020-64x32_equiangular_conservative.zarr \\\n",
    "  --obs_path=gs://weatherbench2/datasets/era5/1959-2022-6h-64x32_equiangular_conservative.zarr  \\\n",
    "  --climatology_path=gs://weatherbench2/datasets/era5-hourly-climatology/1990-2019_6h_64x32_equiangular_conservative.zarr \\\n",
    "  --output_dir=/mnt/sda/Data2/wb2/Results_CLS/64x32/probabilistic/ \\\n",
    "  --output_file_prefix=neuralgcm_ens_vs_era5_2020_ \\\n",
    "  --input_chunks=init_time=16 \\\n",
    "  --eval_configs=probabilistic \\\n",
    "  --variables=geopotential,temperature,specific_humidity,wind_speed \\\n",
    "  --ensemble_dim=realization \\\n",
    "  --use_beam=True \\\n",
    "  --fanout=24 \\\n",
    "  --runner=DirectRunner"
   ]
  },
  {
   "cell_type": "markdown",
   "metadata": {},
   "source": [
    "## GraphCast"
   ]
  },
  {
   "cell_type": "code",
   "execution_count": 24,
   "metadata": {},
   "outputs": [],
   "source": [
    "graphcast_forecast_T850 = xr.open_zarr('gs://weatherbench2/datasets/graphcast/2020/date_range_2019-11-16_2021-02-01_12_hours-64x32_equiangular_conservative.zarr')['temperature'].sel(time=slice('2020-01-01','2020-12-31'), level=850)\n",
    "\n",
    "graphcast_errors_T850_train = xr.concat([graphcast_errors_T850['temperature'].sel(init_time=slice(None,'2019-12-31')), graphcast_errors_T850['temperature'].sel(init_time=slice('2021-01-01',None))], dim='init_time')\n",
    "\n",
    "t = graphcast_errors_T850_train.sizes['init_time']\n",
    "\n",
    "# Initialize an empty list to store ensemble forecasts\n",
    "ensemble_forecast_datasets = []\n",
    "\n",
    "# Iterate over all time values in graphcast_forecast_T850\n",
    "for time in graphcast_forecast_T850.time:\n",
    "    \n",
    "    # Select random errors\n",
    "    random_indices = np.random.choice(t, size=50)\n",
    "    sampled_errors = (\n",
    "        graphcast_errors_T850_train.isel(init_time=random_indices)\n",
    "        .drop(['valid_time', 'time'])\n",
    "        .reset_index('init_time', drop=True)\n",
    "        .rename({'init_time': 'number'})\n",
    "        .assign_coords(number=np.arange(len(random_indices)))\n",
    "    )\n",
    "    \n",
    "    # Create an ensemble for each time by adding errors\n",
    "    forecast_datasets = []\n",
    "    for i in sampled_errors.number:\n",
    "        modified_forecast = graphcast_forecast_T850.sel(time=time) + sampled_errors.sel(number=i)\n",
    "        forecast_datasets.append(modified_forecast)\n",
    "\n",
    "    # Concatenate individual forecasts to create an ensemble for the current time\n",
    "    ensemble_forecast = xr.concat(forecast_datasets, dim='number')\n",
    "    \n",
    "    # Append the ensemble forecast to the list\n",
    "    ensemble_forecast_datasets.append(ensemble_forecast)\n",
    "\n",
    "# Concatenate all ensemble forecasts along the 'time' dimension\n",
    "ensemble_forecast_T850 = xr.concat(ensemble_forecast_datasets, dim='time')\n",
    "ensemble_forecast_T850 = ensemble_forecast_T850.to_dataset()\n",
    "ensemble_forecast_T850 = ensemble_forecast_T850.drop('level').assign(level=xr.DataArray([850], dims='level'))"
   ]
  },
  {
   "cell_type": "code",
   "execution_count": 25,
   "metadata": {},
   "outputs": [
    {
     "name": "stdout",
     "output_type": "stream",
     "text": [
      "CPU times: user 49min 34s, sys: 14min 48s, total: 1h 4min 23s\n",
      "Wall time: 45min 52s\n"
     ]
    },
    {
     "data": {
      "text/plain": [
       "<xarray.backends.zarr.ZarrStore at 0x7f45625f00b0>"
      ]
     },
     "execution_count": 25,
     "metadata": {},
     "output_type": "execute_result"
    }
   ],
   "source": [
    "%%time\n",
    "ensemble_forecast_T850.to_zarr('Results_CLS/64x32/Errors/graphcast_50_ensemble_forecast_T850.zarr',mode='w')"
   ]
  },
  {
   "cell_type": "code",
   "execution_count": null,
   "metadata": {},
   "outputs": [],
   "source": [
    "!python weatherbench2/scripts/evaluate.py \\\n",
    "  --forecast_path=Results_CLS/64x32/Errors/graphcast_50_ensemble_forecast_T850.zarr \\\n",
    "  --obs_path=gs://weatherbench2/datasets/era5/1959-2023_01_10-6h-64x32_equiangular_conservative.zarr \\\n",
    "  --climatology_path=gs://weatherbench2/datasets/era5-hourly-climatology/1990-2019_6h_64x32_equiangular_conservative.zarr \\\n",
    "  --output_dir=Results_CLS/64x32/Errors/probabilistic/ \\\n",
    "  --output_file_prefix=graphcast_error_ens_50_vs_era5_2020_T850_ \\\n",
    "  --input_chunks=init_time=16 \\\n",
    "  --eval_configs=probabilistic \\\n",
    "  --variables=temperature \\\n",
    "  --levels=850 \\\n",
    "  --use_beam=True \\\n",
    "  --fanout=24 \\\n",
    "  --runner=DirectRunner"
   ]
  },
  {
   "cell_type": "markdown",
   "metadata": {},
   "source": [
    "# T2M"
   ]
  },
  {
   "cell_type": "markdown",
   "metadata": {},
   "source": [
    "## Pangu"
   ]
  },
  {
   "cell_type": "code",
   "execution_count": null,
   "metadata": {},
   "outputs": [],
   "source": [
    "%%time\n",
    "# Pangu\n",
    "!python weatherbench2/scripts/evaluate.py \\\n",
    "    --forecast_path=gs://weatherbench2/datasets/pangu/2018-2022_0012_64x32_equiangular_conservative.zarr \\\n",
    "    --obs_path=gs://weatherbench2/datasets/era5/1959-2023_01_10-6h-64x32_equiangular_conservative.zarr \\\n",
    "    --climatology_path=gs://weatherbench2/datasets/era5-hourly-climatology/1990-2019_6h_64x32_equiangular_conservative.zarr \\\n",
    "    --time_start=2018-01-01 \\\n",
    "    --time_stop=2022-12-31 \\\n",
    "    --variables=2m_temperature \\\n",
    "    --eval_configs=spatial_temporal_bias \\\n",
    "    --output_dir=/mnt/sda/Data2/wb2/Results_CLS/64x32/Errors/ \\\n",
    "    --output_file_prefix=pangu_vs_era5_2018_2021_2m_temperature_ \\\n",
    "    --input_chunks=init_time=128 \\\n",
    "    --use_beam=True \\\n",
    "    --runner=DirectRunner"
   ]
  },
  {
   "cell_type": "code",
   "execution_count": 18,
   "metadata": {},
   "outputs": [
    {
     "name": "stderr",
     "output_type": "stream",
     "text": [
      "100%|█████████████████████████████████████████████████████████████████████████████████████████████████████████████████████████████████████████████████████████████████████████| 732/732 [03:36<00:00,  3.38it/s]\n"
     ]
    }
   ],
   "source": [
    "# Load forecast and errors datasets\n",
    "pangu_forecast_t2m = xr.open_zarr('gs://weatherbench2/datasets/pangu/2018-2022_0012_64x32_equiangular_conservative.zarr')['2m_temperature'].sel(time=slice('2020-01-01','2020-12-31'))#.rename({'time': 'init_time'})\n",
    "pangu_errors_t2m = xr.open_dataset('Results_CLS/64x32/Errors/pangu_vs_era5_2018_2021_2m_temperature_spatial_temporal_bias.nc').rename({'lead_time': 'prediction_timedelta'}).sel(metric='bias')\n",
    "pangu_errors_t2m_train = xr.concat([pangu_errors_t2m['2m_temperature'].sel(init_time=slice(None,'2019-12-31')), pangu_errors_t2m['2m_temperature'].sel(init_time=slice('2021-01-01',None))], dim='init_time')\n",
    "\n",
    "t = pangu_errors_t2m_train.sizes['init_time']\n",
    "\n",
    "# Initialize an empty list to store ensemble forecasts\n",
    "ensemble_forecast_datasets = []\n",
    "\n",
    "# Iterate over all time values in pangu_forecast\n",
    "for time in tqdm(pangu_forecast_t2m.time):\n",
    "    \n",
    "    # Select random errors\n",
    "    random_indices = np.random.choice(t, size=50)\n",
    "    sampled_errors = (\n",
    "        pangu_errors_t2m_train.isel(init_time=random_indices)\n",
    "        .drop(['valid_time', 'time'])\n",
    "        .reset_index('init_time', drop=True)\n",
    "        .rename({'init_time': 'number'})\n",
    "        .assign_coords(number=np.arange(len(random_indices)))\n",
    "    )\n",
    "    \n",
    "    # Create an ensemble for each time by adding errors\n",
    "    forecast_datasets = []\n",
    "    for i in sampled_errors.number:\n",
    "        modified_forecast = pangu_forecast_t2m.sel(time=time) + sampled_errors.sel(number=i)\n",
    "        forecast_datasets.append(modified_forecast)\n",
    "\n",
    "    # Concatenate individual forecasts to create an ensemble for the current time\n",
    "    ensemble_forecast = xr.concat(forecast_datasets, dim='number')\n",
    "    \n",
    "    # Append the ensemble forecast to the list\n",
    "    ensemble_forecast_datasets.append(ensemble_forecast)\n",
    "\n",
    "# Concatenate all ensemble forecasts along the 'time' dimension\n",
    "ensemble_forecast_t2m = xr.concat(ensemble_forecast_datasets, dim='time')\n",
    "ensemble_forecast_t2m = ensemble_forecast_t2m.to_dataset()\n",
    "#ensemble_forecast_t2m = ensemble_forecast_T850#.drop('level').assign(level=xr.DataArray([850], dims='level'))"
   ]
  },
  {
   "cell_type": "code",
   "execution_count": 22,
   "metadata": {},
   "outputs": [
    {
     "name": "stdout",
     "output_type": "stream",
     "text": [
      "CPU times: user 43min 20s, sys: 11min 8s, total: 54min 29s\n",
      "Wall time: 44min 52s\n"
     ]
    },
    {
     "data": {
      "text/plain": [
       "<xarray.backends.zarr.ZarrStore at 0x7f9d507f2270>"
      ]
     },
     "execution_count": 22,
     "metadata": {},
     "output_type": "execute_result"
    }
   ],
   "source": [
    "%%time\n",
    "ensemble_forecast_t2m.to_zarr('Results_CLS/64x32/Errors/pangu_50_ensemble_forecast_T2M.zarr',mode='w')"
   ]
  },
  {
   "cell_type": "code",
   "execution_count": null,
   "metadata": {},
   "outputs": [],
   "source": [
    "!python weatherbench2/scripts/evaluate.py \\\n",
    "  --forecast_path=Results_CLS/64x32/Errors/pangu_50_ensemble_forecast_T2M.zarr \\\n",
    "  --obs_path=gs://weatherbench2/datasets/era5/1959-2023_01_10-6h-64x32_equiangular_conservative.zarr \\\n",
    "  --climatology_path=gs://weatherbench2/datasets/era5-hourly-climatology/1990-2019_6h_64x32_equiangular_conservative.zarr \\\n",
    "  --output_dir=Results_CLS/64x32/Errors/probabilistic/ \\\n",
    "  --output_file_prefix=pangu_error_ens_50_T2M_vs_era5_2020_ \\\n",
    "  --input_chunks=init_time=32 \\\n",
    "  --eval_configs=probabilistic \\\n",
    "  --variables=2m_temperature \\\n",
    "  --use_beam=True \\\n",
    "  --fanout=24 \\\n",
    "  --runner=DirectRunner"
   ]
  },
  {
   "cell_type": "markdown",
   "metadata": {},
   "source": [
    "## HRES"
   ]
  },
  {
   "cell_type": "code",
   "execution_count": null,
   "metadata": {},
   "outputs": [],
   "source": [
    "%%time\n",
    "# HRES\n",
    "!python weatherbench2/scripts/evaluate.py \\\n",
    "    --forecast_path=gs://weatherbench2/datasets/hres/2016-2022-0012-64x32_equiangular_conservative.zarr \\\n",
    "    --obs_path=gs://weatherbench2/datasets/hres_t0/2016-2022-6h-64x32_equiangular_conservative.zarr \\\n",
    "    --climatology_path=gs://weatherbench2/datasets/era5-hourly-climatology/1990-2019_6h_64x32_equiangular_conservative.zarr \\\n",
    "    --time_start=2016-01-01 \\\n",
    "    --time_stop=2022-12-21 \\\n",
    "    --variables=2m_temperature \\\n",
    "    --eval_configs=spatial_temporal_bias \\\n",
    "    --output_dir=/mnt/sda/Data2/wb2/Results_CLS/64x32/Errors/ \\\n",
    "    --output_file_prefix=hres_vs_analysis_2016_2022_2m_temperature_ \\\n",
    "    --input_chunks=init_time=128 \\\n",
    "    --use_beam=True \\\n",
    "    --runner=DirectRunner"
   ]
  },
  {
   "cell_type": "code",
   "execution_count": 24,
   "metadata": {},
   "outputs": [
    {
     "name": "stderr",
     "output_type": "stream",
     "text": [
      "100%|█████████████████████████████████████████████████████████████████████████████████████████████████████████████████████████████████████████████████████████████████████████| 732/732 [03:22<00:00,  3.62it/s]\n"
     ]
    }
   ],
   "source": [
    "# Load forecast and errors datasets\n",
    "hres_forecast_t2m = xr.open_zarr('gs://weatherbench2/datasets/hres/2016-2022-0012-64x32_equiangular_conservative.zarr')['2m_temperature'].sel(time=slice('2020-01-01','2020-12-31'))#.rename({'time': 'init_time'})\n",
    "hres_errors_t2m = xr.open_dataset('Results_CLS/64x32/Errors/hres_vs_analysis_2016_2022_2m_temperature_spatial_temporal_bias.nc').rename({'lead_time': 'prediction_timedelta'}).sel(metric='bias')\n",
    "hres_errors_t2m_train = xr.concat([hres_errors_t2m['2m_temperature'].sel(init_time=slice(None,'2019-12-31')), hres_errors_t2m['2m_temperature'].sel(init_time=slice('2021-01-01',None))], dim='init_time')\n",
    "\n",
    "t = hres_errors_t2m_train.sizes['init_time']\n",
    "\n",
    "# Initialize an empty list to store ensemble forecasts\n",
    "ensemble_forecast_datasets = []\n",
    "\n",
    "# Iterate over all time values in hres_forecast\n",
    "for time in tqdm(hres_forecast_t2m.time):\n",
    "    \n",
    "    # Select random errors\n",
    "    random_indices = np.random.choice(t, size=50)\n",
    "    sampled_errors = (\n",
    "        hres_errors_t2m_train.isel(init_time=random_indices)\n",
    "        .drop(['valid_time', 'time'])\n",
    "        .reset_index('init_time', drop=True)\n",
    "        .rename({'init_time': 'number'})\n",
    "        .assign_coords(number=np.arange(len(random_indices)))\n",
    "    )\n",
    "    \n",
    "    # Create an ensemble for each time by adding errors\n",
    "    forecast_datasets = []\n",
    "    for i in sampled_errors.number:\n",
    "        modified_forecast = hres_forecast_t2m.sel(time=time) + sampled_errors.sel(number=i)\n",
    "        forecast_datasets.append(modified_forecast)\n",
    "\n",
    "    # Concatenate individual forecasts to create an ensemble for the current time\n",
    "    ensemble_forecast = xr.concat(forecast_datasets, dim='number')\n",
    "    \n",
    "    # Append the ensemble forecast to the list\n",
    "    ensemble_forecast_datasets.append(ensemble_forecast)\n",
    "\n",
    "# Concatenate all ensemble forecasts along the 'time' dimension\n",
    "ensemble_forecast_t2m = xr.concat(ensemble_forecast_datasets, dim='time')\n",
    "ensemble_forecast_t2m = ensemble_forecast_t2m.to_dataset()"
   ]
  },
  {
   "cell_type": "code",
   "execution_count": 25,
   "metadata": {},
   "outputs": [
    {
     "name": "stdout",
     "output_type": "stream",
     "text": [
      "CPU times: user 44min 33s, sys: 12min 20s, total: 56min 54s\n",
      "Wall time: 46min 46s\n"
     ]
    },
    {
     "data": {
      "text/plain": [
       "<xarray.backends.zarr.ZarrStore at 0x7f9c7770a5f0>"
      ]
     },
     "execution_count": 25,
     "metadata": {},
     "output_type": "execute_result"
    }
   ],
   "source": [
    "%%time\n",
    "ensemble_forecast_t2m.to_zarr('Results_CLS/64x32/Errors/hres_50_ensemble_forecast_T2M.zarr',mode='w')"
   ]
  },
  {
   "cell_type": "code",
   "execution_count": null,
   "metadata": {},
   "outputs": [],
   "source": [
    "!python weatherbench2/scripts/evaluate.py \\\n",
    "  --forecast_path=Results_CLS/64x32/Errors/hres_50_ensemble_forecast_T2M.zarr \\\n",
    "  --obs_path=gs://weatherbench2/datasets/hres_t0/2016-2022-6h-64x32_equiangular_conservative.zarr \\\n",
    "  --climatology_path=gs://weatherbench2/datasets/era5-hourly-climatology/1990-2019_6h_64x32_equiangular_conservative.zarr \\\n",
    "  --output_dir=Results_CLS/64x32/Errors/probabilistic/ \\\n",
    "  --output_file_prefix=hres_error_ens_50_T2M_vs_analysis_2020_ \\\n",
    "  --input_chunks=init_time=64 \\\n",
    "  --eval_configs=probabilistic \\\n",
    "  --variables=2m_temperature \\\n",
    "  --use_beam=True \\\n",
    "  --fanout=24 \\\n",
    "  --runner=DirectRunner"
   ]
  },
  {
   "cell_type": "markdown",
   "metadata": {},
   "source": [
    "## GraphCast"
   ]
  },
  {
   "cell_type": "code",
   "execution_count": null,
   "metadata": {},
   "outputs": [],
   "source": [
    "%%time\n",
    "# GraphCast 1\n",
    "!python weatherbench2/scripts/evaluate.py \\\n",
    "    --forecast_path=gs://weatherbench2/datasets/graphcast/2018/date_range_2017-11-16_2019-02-01_12_hours-64x32_equiangular_conservative.zarr \\\n",
    "    --obs_path=gs://weatherbench2/datasets/era5/1959-2023_01_10-6h-64x32_equiangular_conservative.zarr \\\n",
    "    --climatology_path=gs://weatherbench2/datasets/era5-hourly-climatology/1990-2019_6h_64x32_equiangular_conservative.zarr \\\n",
    "    --time_start=2017-11-16 \\\n",
    "    --time_stop=2019-01-31 \\\n",
    "    --variables=2m_temperature \\\n",
    "    --eval_configs=spatial_temporal_bias \\\n",
    "    --output_dir=/mnt/sda/Data2/wb2/Results_CLS/64x32/Errors/ \\\n",
    "    --output_file_prefix=graphcast_vs_era5_2018_2019_2m_temperature_ \\\n",
    "    --input_chunks=init_time=128 \\\n",
    "    --use_beam=True \\\n",
    "    --runner=DirectRunner"
   ]
  },
  {
   "cell_type": "code",
   "execution_count": null,
   "metadata": {},
   "outputs": [],
   "source": [
    "%%time\n",
    "# GraphCast 2\n",
    "!python weatherbench2/scripts/evaluate.py \\\n",
    "    --forecast_path=gs://weatherbench2/datasets/graphcast/2020/date_range_2019-11-16_2021-02-01_12_hours-64x32_equiangular_conservative.zarr \\\n",
    "    --obs_path=gs://weatherbench2/datasets/era5/1959-2023_01_10-6h-64x32_equiangular_conservative.zarr \\\n",
    "    --climatology_path=gs://weatherbench2/datasets/era5-hourly-climatology/1990-2019_6h_64x32_equiangular_conservative.zarr \\\n",
    "    --time_start=2019-11-16 \\\n",
    "    --time_stop=2021-01-31 \\\n",
    "    --variables=2m_temperature \\\n",
    "    --eval_configs=spatial_temporal_bias \\\n",
    "    --output_dir=/mnt/sda/Data2/wb2/Results_CLS/64x32/Errors/ \\\n",
    "    --output_file_prefix=graphcast_vs_era5_2020_2021_2m_temperature_ \\\n",
    "    --input_chunks=init_time=128 \\\n",
    "    --use_beam=True \\\n",
    "    --runner=DirectRunner"
   ]
  },
  {
   "cell_type": "code",
   "execution_count": 26,
   "metadata": {},
   "outputs": [
    {
     "name": "stderr",
     "output_type": "stream",
     "text": [
      "100%|█████████████████████████████████████████████████████████████████████████████████████████████████████████████████████████████████████████████████████████████████████████| 732/732 [03:12<00:00,  3.81it/s]\n"
     ]
    }
   ],
   "source": [
    "# Load forecast and errors datasets\n",
    "graphcast_forecast_t2m = xr.open_zarr('gs://weatherbench2/datasets/graphcast/2020/date_range_2019-11-16_2021-02-01_12_hours-64x32_equiangular_conservative.zarr')['2m_temperature'].sel(time=slice('2020-01-01','2020-12-31'))\n",
    "graphcast_errors_t2m = xr.concat([xr.open_dataset('Results_CLS/64x32/Errors/graphcast_vs_era5_2018_2019_2m_temperature_spatial_temporal_bias.nc'), xr.open_dataset('Results_CLS/64x32/Errors/graphcast_vs_era5_2020_2021_2m_temperature_spatial_temporal_bias.nc')],dim='init_time').rename({'lead_time': 'prediction_timedelta'}).sel(metric='bias')\n",
    "graphcast_errors_t2m_train = xr.concat([graphcast_errors_t2m['2m_temperature'].sel(init_time=slice(None,'2019-12-31')), graphcast_errors_t2m['2m_temperature'].sel(init_time=slice('2021-01-01',None))], dim='init_time')\n",
    "\n",
    "t = graphcast_errors_t2m_train.sizes['init_time']\n",
    "\n",
    "# Initialize an empty list to store ensemble forecasts\n",
    "ensemble_forecast_datasets = []\n",
    "\n",
    "# Iterate over all time values in graphcast_forecast\n",
    "for time in tqdm(graphcast_forecast_t2m.time):\n",
    "    \n",
    "    # Select random errors\n",
    "    random_indices = np.random.choice(t, size=50)\n",
    "    sampled_errors = (\n",
    "        graphcast_errors_t2m_train.isel(init_time=random_indices)\n",
    "        .drop(['valid_time', 'time'])\n",
    "        .reset_index('init_time', drop=True)\n",
    "        .rename({'init_time': 'number'})\n",
    "        .assign_coords(number=np.arange(len(random_indices)))\n",
    "    )\n",
    "    \n",
    "    # Create an ensemble for each time by adding errors\n",
    "    forecast_datasets = []\n",
    "    for i in sampled_errors.number:\n",
    "        modified_forecast = graphcast_forecast_t2m.sel(time=time) + sampled_errors.sel(number=i)\n",
    "        forecast_datasets.append(modified_forecast)\n",
    "\n",
    "    # Concatenate individual forecasts to create an ensemble for the current time\n",
    "    ensemble_forecast = xr.concat(forecast_datasets, dim='number')\n",
    "    \n",
    "    # Append the ensemble forecast to the list\n",
    "    ensemble_forecast_datasets.append(ensemble_forecast)\n",
    "\n",
    "# Concatenate all ensemble forecasts along the 'time' dimension\n",
    "ensemble_forecast_t2m = xr.concat(ensemble_forecast_datasets, dim='time')\n",
    "ensemble_forecast_t2m = ensemble_forecast_t2m.to_dataset()"
   ]
  },
  {
   "cell_type": "code",
   "execution_count": 27,
   "metadata": {},
   "outputs": [
    {
     "name": "stdout",
     "output_type": "stream",
     "text": [
      "CPU times: user 38min 58s, sys: 10min 3s, total: 49min 1s\n",
      "Wall time: 40min 27s\n"
     ]
    },
    {
     "data": {
      "text/plain": [
       "<xarray.backends.zarr.ZarrStore at 0x7f9c1c1f1a50>"
      ]
     },
     "execution_count": 27,
     "metadata": {},
     "output_type": "execute_result"
    }
   ],
   "source": [
    "%%time\n",
    "ensemble_forecast_t2m.to_zarr('Results_CLS/64x32/Errors/graphcast_50_ensemble_forecast_T2M.zarr',mode='w')"
   ]
  },
  {
   "cell_type": "code",
   "execution_count": null,
   "metadata": {},
   "outputs": [],
   "source": [
    "!python weatherbench2/scripts/evaluate.py \\\n",
    "  --forecast_path=Results_CLS/64x32/Errors/graphcast_50_ensemble_forecast_T2M.zarr \\\n",
    "  --obs_path=gs://weatherbench2/datasets/era5/1959-2023_01_10-6h-64x32_equiangular_conservative.zarr \\\n",
    "  --climatology_path=gs://weatherbench2/datasets/era5-hourly-climatology/1990-2019_6h_64x32_equiangular_conservative.zarr \\\n",
    "  --output_dir=Results_CLS/64x32/Errors/probabilistic/ \\\n",
    "  --output_file_prefix=graphcast_error_ens_50_vs_era5_2020_T2M_ \\\n",
    "  --input_chunks=init_time=64 \\\n",
    "  --eval_configs=probabilistic \\\n",
    "  --variables=2m_temperature \\\n",
    "  --use_beam=True \\\n",
    "  --fanout=24 \\\n",
    "  --runner=DirectRunner"
   ]
  }
 ],
 "metadata": {
  "kernelspec": {
   "display_name": "Python 3 (ipykernel)",
   "language": "python",
   "name": "python3"
  },
  "language_info": {
   "codemirror_mode": {
    "name": "ipython",
    "version": 3
   },
   "file_extension": ".py",
   "mimetype": "text/x-python",
   "name": "python",
   "nbconvert_exporter": "python",
   "pygments_lexer": "ipython3",
   "version": "3.9.7"
  }
 },
 "nbformat": 4,
 "nbformat_minor": 4
}

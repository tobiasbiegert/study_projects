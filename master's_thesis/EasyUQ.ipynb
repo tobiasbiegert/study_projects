{
 "cells": [
  {
   "cell_type": "markdown",
   "id": "cbd45da8-44be-485b-8a9a-668672e2ab78",
   "metadata": {},
   "source": [
    "# Imports"
   ]
  },
  {
   "cell_type": "code",
   "execution_count": 1,
   "id": "e8612f97-5c02-41e4-b22a-14471d4205d2",
   "metadata": {},
   "outputs": [],
   "source": [
    "import numpy as np\n",
    "import pandas as pd\n",
    "import xarray as xr\n",
    "\n",
    "from isodisreg import idr\n",
    "\n",
    "import matplotlib.pyplot as plt\n",
    "\n",
    "from weatherbench2.visualization import set_wb2_style\n",
    "from weatherbench2.metrics import _spatial_average\n",
    "\n",
    "import time\n",
    "from tqdm import tqdm\n",
    "import concurrent.futures\n",
    "import multiprocessing\n",
    "\n",
    "import random\n",
    "from scipy.stats import gamma"
   ]
  },
  {
   "cell_type": "code",
   "execution_count": 2,
   "id": "3f6c4a0c-78dd-496d-9c17-78df3dc461a9",
   "metadata": {},
   "outputs": [],
   "source": [
    "set_wb2_style()"
   ]
  },
  {
   "cell_type": "code",
   "execution_count": 3,
   "id": "e736c4b6-e945-42cc-a418-ba41e3591436",
   "metadata": {},
   "outputs": [],
   "source": [
    "plt.rcParams.update({'font.size': 28})"
   ]
  },
  {
   "cell_type": "code",
   "execution_count": 4,
   "id": "2d554ca9-ca7f-444a-b76e-7e5b64371a4d",
   "metadata": {},
   "outputs": [],
   "source": [
    "def calc_spatial_avg_metrics(df):\n",
    "    \n",
    "    df_mi = df.set_index(['latitude', 'longitude', 'lead_time'])\n",
    "    columns_to_include = df_mi.columns\n",
    "    \n",
    "    # Create xarray Dataset for all specified columns\n",
    "    ds_result = xr.Dataset({\n",
    "        column: (['lead_time', 'latitude', 'longitude'], df_mi[column].values.reshape((-1, len(df_mi.index.levels[0]), len(df_mi.index.levels[1]))))\n",
    "        for column in columns_to_include\n",
    "    }, coords={ \n",
    "        'latitude': df_mi.index.levels[0], \n",
    "        'longitude': df_mi.index.levels[1],\n",
    "        'lead_time': df_mi.index.levels[2]\n",
    "    })\n",
    "    \n",
    "    # Calculate spatial average for each metric\n",
    "    spatial_avg_metrics = xr.Dataset()\n",
    "    spatial_avg_metrics = _spatial_average(ds_result)\n",
    "    \n",
    "    return ds_result, spatial_avg_metrics"
   ]
  },
  {
   "cell_type": "code",
   "execution_count": 5,
   "id": "b03920ad-3961-4eda-b3c7-769e625775e2",
   "metadata": {},
   "outputs": [],
   "source": [
    "def get_points(predictions):\n",
    "    return np.array(predictions.points)\n",
    "def get_cdf(predictions):\n",
    "    return np.array(predictions.ecdf)\n",
    "def modify_points(points):\n",
    "    return np.hstack([points[0], np.diff(points)])\n",
    "def var0_se0(w, x, obs):\n",
    "    first_moment = np.sum(x*w)\n",
    "    second_moment = np.sum(x**2*w)\n",
    "    variance = second_moment - first_moment**2\n",
    "    se = (first_moment - obs)**2\n",
    "    return variance, se, first_moment\n",
    "\n",
    "def cal_var_se(preds, obs):\n",
    "    p = list(map(get_cdf, preds))\n",
    "    w = list(map(modify_points, p))\n",
    "    x = list(map(get_points, preds))\n",
    "    \n",
    "    return list(map(var0_se0, w, x, obs))"
   ]
  },
  {
   "cell_type": "code",
   "execution_count": null,
   "id": "85013d06-4269-43b1-a133-3a1c8910f0e6",
   "metadata": {},
   "outputs": [],
   "source": [
    "def process_location(lat, lon, lead_time):\n",
    "    try:\n",
    "        forecast_subset = forecast.sel(latitude=lat, longitude=lon, prediction_timedelta=lead_time)\n",
    "\n",
    "        # Split forecast data into training and test sets\n",
    "        forecast_train = xr.concat([forecast_subset.sel(time=slice(None, '2019-12-31')),\n",
    "                                 forecast_subset.sel(time=slice('2021-01-01', obs.time[-1] - pd.to_timedelta(lead_time)))], dim='time')\n",
    "        forecast_test = forecast_subset.sel(time=slice('2020-01-01', '2020-12-31'))\n",
    "\n",
    "        # Load ERA5 data\n",
    "        obs_train = obs.sel(latitude=lat, longitude=lon, time=forecast_train.time + lead_time)\n",
    "        obs_test = obs.sel(latitude=lat, longitude=lon, time=forecast_test.time + lead_time)\n",
    "\n",
    "        # Extract values from datasets\n",
    "        forecast_train_values = forecast_train.values\n",
    "        forecast_test_values = forecast_test.values\n",
    "        obs_train_values = obs_train.values\n",
    "        obs_test_values = obs_test.values\n",
    "\n",
    "        # Fit IDR\n",
    "        fitted_idr = idr(obs_train_values, pd.DataFrame({\"forecast\": forecast_train_values}))\n",
    "\n",
    "        # Predict \n",
    "        #preds_train = fitted_idr.predict(pd.DataFrame({\"forecast\": forecast_train_values}, columns=[\"forecast\"]))\n",
    "        preds_test = fitted_idr.predict(pd.DataFrame({\"forecast\": forecast_test_values}))\n",
    "\n",
    "        medians_idr = preds_test.qpred(0.5)\n",
    "\n",
    "        var_idr, mse_idr, _ = np.mean(cal_var_se(preds_test.predictions, obs_test_values), axis=0)\n",
    "\n",
    "        # Calculate IDR CRPS, MAE and MSE for deterministic forecast\n",
    "        crps_idr = np.mean(preds_test.crps(obs_test_values))\n",
    "        mae_idr = np.mean(np.abs(medians_idr - obs_test_values)) #\n",
    "        mae_det = np.mean(np.abs(forecast_test_values - obs_test_values))\n",
    "        mse_det = np.mean((forecast_test_values - obs_test_values)**2)\n",
    "\n",
    "        return {\n",
    "            'latitude': lat,\n",
    "            'longitude': lon,\n",
    "            'lead_time': lead_time,\n",
    "            'crps_idr': crps_idr,\n",
    "            'mae_idr': mae_idr, #\n",
    "            'mse_idr': mse_idr,\n",
    "            'mae_det': mae_det,\n",
    "            'mse_det': mse_det,\n",
    "            'var_idr': var_idr\n",
    "        }\n",
    "        \n",
    "    except Exception as e:\n",
    "        print(f\"Error in process_location for lat={lat}, lon={lon}, lead_time={lead_time}: {e}\")\n",
    "        return None"
   ]
  },
  {
   "cell_type": "markdown",
   "id": "040d70c0-90ac-4445-8f15-fc39a678d4f0",
   "metadata": {},
   "source": [
    "# Pangu"
   ]
  },
  {
   "cell_type": "code",
   "execution_count": 5,
   "id": "1ade1200-1551-4832-bdb8-affe7a6c1ef9",
   "metadata": {},
   "outputs": [
    {
     "name": "stdout",
     "output_type": "stream",
     "text": [
      "Forecast done in 217.82 seconds\n",
      "Obs done in 6.38 seconds\n"
     ]
    }
   ],
   "source": [
    "start_time = time.time()\n",
    "\n",
    "# Load PANGU data\n",
    "forecast = xr.open_zarr('gs://weatherbench2/datasets/pangu/2018-2022_0012_64x32_equiangular_conservative.zarr')['temperature'].sel(level=850)\n",
    "forecast = forecast.compute()\n",
    "forecast_done_time = time.time() - start_time\n",
    "print('Forecast done in {:.2f} seconds'.format(forecast_done_time))\n",
    "\n",
    "\n",
    "start_time = time.time()\n",
    "# Load ERA5 data\n",
    "obs = xr.open_zarr('gs://weatherbench2/datasets/era5/1959-2023_01_10-6h-64x32_equiangular_conservative.zarr')['temperature'].sel(level=850, time=slice(forecast.time[0], forecast.time[-1]))\n",
    "obs = obs.compute()\n",
    "\n",
    "obs_done_time = time.time() - start_time\n",
    "print('Obs done in {:.2f} seconds'.format(obs_done_time))"
   ]
  },
  {
   "cell_type": "code",
   "execution_count": 6,
   "id": "55cdec40-149b-45c1-bada-451ab24a76d4",
   "metadata": {},
   "outputs": [
    {
     "name": "stderr",
     "output_type": "stream",
     "text": [
      "100%|███████████████████████████████████| 81920/81920 [1:18:36<00:00, 17.37it/s]\n"
     ]
    }
   ],
   "source": [
    "result_list = []\n",
    "\n",
    "# Automatically determine the number of workers based on CPU cores\n",
    "num_workers = int(multiprocessing.cpu_count() * 0.5)\n",
    "\n",
    "with concurrent.futures.ProcessPoolExecutor(max_workers=num_workers) as executor, tqdm(total=len(forecast.prediction_timedelta.values) * len(forecast.latitude.values) * len(forecast.longitude.values)) as pbar:\n",
    "    futures = []\n",
    "    for lead_time in forecast.prediction_timedelta.values:\n",
    "        for lat in forecast.latitude.values:\n",
    "            for lon in forecast.longitude.values:\n",
    "                future = executor.submit(process_location, lat, lon, lead_time)\n",
    "                futures.append(future)\n",
    "\n",
    "    # Wait for all futures to complete\n",
    "    for future in concurrent.futures.as_completed(futures):\n",
    "        result_list.append(future.result())\n",
    "        pbar.update(1)\n",
    "\n",
    "executor.shutdown(wait=True)\n",
    "\n",
    "# Convert the list of dictionaries to a DataFrame\n",
    "result_df = pd.DataFrame(result_list)"
   ]
  },
  {
   "cell_type": "code",
   "execution_count": 8,
   "id": "c6e5aae8-c425-499c-a63c-0cdf2b5b2e90",
   "metadata": {},
   "outputs": [],
   "source": [
    "result_df.sort_values(by=['lead_time', 'latitude', 'longitude']).to_pickle('EasyUQ/pangu_2020_local.pkl')"
   ]
  },
  {
   "cell_type": "code",
   "execution_count": 9,
   "id": "d1af011a-7021-434e-8deb-c354cfa071fb",
   "metadata": {},
   "outputs": [],
   "source": [
    "result = pd.read_pickle('EasyUQ/pangu_2020_local.pkl')"
   ]
  },
  {
   "cell_type": "markdown",
   "id": "0e34db2a-07b0-4ea7-b514-194e86d3cdde",
   "metadata": {},
   "source": [
    "# HRES"
   ]
  },
  {
   "cell_type": "code",
   "execution_count": 69,
   "id": "c2a125de-81c8-488d-bc3e-01c281b0cf3b",
   "metadata": {},
   "outputs": [
    {
     "name": "stdout",
     "output_type": "stream",
     "text": [
      "Forecast done in 617.94 seconds\n",
      "Obs done in 8.40 seconds\n"
     ]
    }
   ],
   "source": [
    "start_time = time.time()\n",
    "\n",
    "# Load HRES data\n",
    "forecast = xr.open_zarr('gs://weatherbench2/datasets/hres/2016-2022-0012-64x32_equiangular_conservative.zarr')['temperature'].sel(level=850)\n",
    "forecast = forecast.compute()\n",
    "forecast_done_time = time.time() - start_time\n",
    "print('Forecast done in {:.2f} seconds'.format(forecast_done_time))\n",
    "\n",
    "\n",
    "start_time = time.time()\n",
    "# Load Analysis data\n",
    "obs = xr.open_zarr('gs://weatherbench2/datasets/hres_t0/2016-2022-6h-64x32_equiangular_conservative.zarr')['temperature'].sel(level=850, time=slice(forecast.time[0], None))\n",
    "obs = obs.compute()\n",
    "\n",
    "obs_done_time = time.time() - start_time\n",
    "print('Obs done in {:.2f} seconds'.format(obs_done_time))"
   ]
  },
  {
   "cell_type": "code",
   "execution_count": 70,
   "id": "ef03d800-8a87-43b0-bddf-c7d5ec75330d",
   "metadata": {},
   "outputs": [
    {
     "name": "stderr",
     "output_type": "stream",
     "text": [
      "100%|█████████████████████████████████████| 83968/83968 [57:25<00:00, 24.37it/s]\n"
     ]
    }
   ],
   "source": [
    "result_list = []\n",
    "\n",
    "# Automatically determine the number of workers based on CPU cores\n",
    "num_workers = int(multiprocessing.cpu_count() * 0.5)\n",
    "\n",
    "with concurrent.futures.ProcessPoolExecutor(max_workers=num_workers) as executor, tqdm(total=len(forecast.prediction_timedelta.values) * len(forecast.latitude.values) * len(forecast.longitude.values)) as pbar:\n",
    "    futures = []\n",
    "    for lead_time in forecast.prediction_timedelta.values:\n",
    "        for lat in forecast.latitude.values:\n",
    "            for lon in forecast.longitude.values:\n",
    "                future = executor.submit(process_location, lat, lon, lead_time)\n",
    "                futures.append(future)\n",
    "\n",
    "    # Wait for all futures to complete\n",
    "    for future in concurrent.futures.as_completed(futures):\n",
    "        result_list.append(future.result())\n",
    "        pbar.update(1)\n",
    "\n",
    "executor.shutdown(wait=True)\n",
    "\n",
    "# Convert the list of dictionaries to a DataFrame\n",
    "result_df = pd.DataFrame(result_list)"
   ]
  },
  {
   "cell_type": "code",
   "execution_count": 72,
   "id": "dc09b904-d15f-43cf-8eb2-bc454a8e9aae",
   "metadata": {},
   "outputs": [],
   "source": [
    "result_df.sort_values(by=['lead_time', 'latitude', 'longitude']).to_pickle('EasyUQ/hres_2020_local.pkl')"
   ]
  },
  {
   "cell_type": "code",
   "execution_count": 73,
   "id": "d2d5b7e0-92d4-4353-8cf1-e7ce996063ed",
   "metadata": {},
   "outputs": [],
   "source": [
    "result = pd.read_pickle('EasyUQ/hres_2020_local.pkl')"
   ]
  },
  {
   "cell_type": "markdown",
   "id": "138d9e4e-9c98-43ba-8514-cafa96186626",
   "metadata": {},
   "source": [
    "# GraphCast"
   ]
  },
  {
   "cell_type": "code",
   "execution_count": 5,
   "id": "df560b23-adb6-480f-9d46-61666b4d199c",
   "metadata": {},
   "outputs": [
    {
     "name": "stdout",
     "output_type": "stream",
     "text": [
      "Forecast done in 181.08 seconds\n",
      "Obs done in 5.12 seconds\n"
     ]
    }
   ],
   "source": [
    "start_time = time.time()\n",
    "\n",
    "# Load GraphCast data\n",
    "forecast = xr.concat([xr.open_zarr('gs://weatherbench2/datasets/graphcast/2018/date_range_2017-11-16_2019-02-01_12_hours-64x32_equiangular_conservative.zarr'), xr.open_zarr('gs://weatherbench2/datasets/graphcast/2020/date_range_2019-11-16_2021-02-01_12_hours-64x32_equiangular_conservative.zarr')],dim='time')['temperature'].sel(level=850)\n",
    "forecast = forecast.compute()\n",
    "forecast_done_time = time.time() - start_time\n",
    "print('Forecast done in {:.2f} seconds'.format(forecast_done_time))\n",
    "\n",
    "\n",
    "start_time = time.time()\n",
    "# Load ERA5 data\n",
    "obs = xr.open_zarr('gs://weatherbench2/datasets/era5/1959-2023_01_10-6h-64x32_equiangular_conservative.zarr')['temperature'].sel(level=850, time=slice(forecast.time[0], forecast.time[-1]))\n",
    "obs = obs.compute()\n",
    "\n",
    "obs_done_time = time.time() - start_time\n",
    "print('Obs done in {:.2f} seconds'.format(obs_done_time))"
   ]
  },
  {
   "cell_type": "code",
   "execution_count": 6,
   "id": "50c774b3-934d-4922-b6ed-48e13d29be27",
   "metadata": {},
   "outputs": [
    {
     "name": "stderr",
     "output_type": "stream",
     "text": [
      "100%|█████████████████████████████████████| 81920/81920 [17:26<00:00, 78.30it/s]\n"
     ]
    }
   ],
   "source": [
    "result_list = []\n",
    "\n",
    "# Automatically determine the number of workers based on CPU cores\n",
    "num_workers = int(multiprocessing.cpu_count() * 0.75)\n",
    "\n",
    "with concurrent.futures.ProcessPoolExecutor(max_workers=num_workers) as executor, tqdm(total=len(forecast.prediction_timedelta.values) * len(forecast.latitude.values) * len(forecast.longitude.values)) as pbar:\n",
    "    futures = []\n",
    "    for lead_time in forecast.prediction_timedelta.values:\n",
    "        for lat in forecast.latitude.values:\n",
    "            for lon in forecast.longitude.values:\n",
    "                future = executor.submit(process_location, lat, lon, lead_time)\n",
    "                futures.append(future)\n",
    "\n",
    "    # Wait for all futures to complete\n",
    "    for future in concurrent.futures.as_completed(futures):\n",
    "        result_list.append(future.result())\n",
    "        pbar.update(1)\n",
    "\n",
    "executor.shutdown(wait=True)\n",
    "\n",
    "# Convert the list of dictionaries to a DataFrame\n",
    "result_df = pd.DataFrame(result_list)"
   ]
  },
  {
   "cell_type": "code",
   "execution_count": 8,
   "id": "3e4e4065-f826-43b6-a241-b676d5020ba7",
   "metadata": {},
   "outputs": [],
   "source": [
    "result_df.sort_values(by=['lead_time', 'latitude', 'longitude']).to_pickle('EasyUQ/graphcast_2020_local.pkl')"
   ]
  },
  {
   "cell_type": "code",
   "execution_count": 9,
   "id": "b05970a5-61a9-46c7-995f-67117cbf4cc8",
   "metadata": {},
   "outputs": [],
   "source": [
    "result = pd.read_pickle('EasyUQ/graphcast_2020_local.pkl')"
   ]
  },
  {
   "cell_type": "markdown",
   "id": "5a334db1-857b-4fb4-b71b-18e8cfb8f7fd",
   "metadata": {},
   "source": [
    "# T2M"
   ]
  },
  {
   "cell_type": "markdown",
   "id": "a8e72c57-f1ab-4294-a2cd-16678e55a704",
   "metadata": {},
   "source": [
    "## Pangu"
   ]
  },
  {
   "cell_type": "code",
   "execution_count": 6,
   "id": "14bf95a4-0860-41f6-a75a-3174cbc2772f",
   "metadata": {},
   "outputs": [
    {
     "name": "stdout",
     "output_type": "stream",
     "text": [
      "PANGU done in 209.49 seconds\n",
      "Obs done in 2.33 seconds\n"
     ]
    }
   ],
   "source": [
    "start_time = time.time()\n",
    "\n",
    "# Load forecast data\n",
    "forecast = xr.open_zarr('gs://weatherbench2/datasets/pangu/2018-2022_0012_64x32_equiangular_conservative.zarr')['2m_temperature']\n",
    "forecast = forecast.compute()\n",
    "forecast_done_time = time.time() - start_time\n",
    "print('Forecast done in {:.2f} seconds'.format(forecast_done_time))\n",
    "\n",
    "\n",
    "start_time = time.time()\n",
    "# Load ERA5 data\n",
    "obs = xr.open_zarr('gs://weatherbench2/datasets/era5/1959-2023_01_10-6h-64x32_equiangular_conservative.zarr')['2m_temperature'].sel(time=slice(forecast.time[0], forecast.time[-1]+forecast.prediction_timedelta.max()))\n",
    "obs = obs.compute()\n",
    "\n",
    "obs_done_time = time.time() - start_time\n",
    "print('Obs done in {:.2f} seconds'.format(obs_done_time))"
   ]
  },
  {
   "cell_type": "code",
   "execution_count": 11,
   "id": "a50d42a3-4af3-431f-bbef-e283b65a096e",
   "metadata": {},
   "outputs": [
    {
     "name": "stderr",
     "output_type": "stream",
     "text": [
      "100%|███████████████████████████████████████████████████████████████████████████████████████████████████████████████████████████████████████████████████████████████████| 81920/81920 [1:17:39<00:00, 17.58it/s]\n"
     ]
    }
   ],
   "source": [
    "result_list = []\n",
    "\n",
    "# Automatically determine the number of workers based on CPU cores\n",
    "num_workers = int(multiprocessing.cpu_count() * 0.5)\n",
    "\n",
    "with concurrent.futures.ProcessPoolExecutor(max_workers=num_workers) as executor, tqdm(total=len(forecast.prediction_timedelta.values) * len(forecast.latitude.values) * len(forecast.longitude.values)) as pbar:\n",
    "    futures = []\n",
    "    for lead_time in forecast.prediction_timedelta.values:\n",
    "        for lat in forecast.latitude.values:\n",
    "            for lon in forecast.longitude.values:\n",
    "                future = executor.submit(process_location, lat, lon, lead_time)\n",
    "                futures.append(future)\n",
    "\n",
    "    # Wait for all futures to complete\n",
    "    for future in concurrent.futures.as_completed(futures):\n",
    "        result_list.append(future.result())\n",
    "        pbar.update(1)\n",
    "\n",
    "executor.shutdown(wait=True)\n",
    "\n",
    "# Convert the list of dictionaries to a DataFrame\n",
    "result_df = pd.DataFrame(result_list)"
   ]
  },
  {
   "cell_type": "code",
   "execution_count": 14,
   "id": "9566ea09-4bd2-434c-a998-16c65d710bbb",
   "metadata": {},
   "outputs": [],
   "source": [
    "result_df.sort_values(by=['lead_time', 'latitude', 'longitude']).reset_index(drop=True).to_pickle('EasyUQ/T2M/pangu_2020_local.pkl')"
   ]
  },
  {
   "cell_type": "markdown",
   "id": "ffb96c04-29e9-4311-a374-0109e2414294",
   "metadata": {},
   "source": [
    "## GraphCast"
   ]
  },
  {
   "cell_type": "code",
   "execution_count": 15,
   "id": "7c1dec14-94fe-4420-8bdd-5f53a756d0a3",
   "metadata": {},
   "outputs": [
    {
     "name": "stdout",
     "output_type": "stream",
     "text": [
      "forecast done in 118.08 seconds\n",
      "Obs done in 2.35 seconds\n"
     ]
    }
   ],
   "source": [
    "start_time = time.time()\n",
    "\n",
    "# Load forecast data\n",
    "forecast = xr.concat([xr.open_zarr('gs://weatherbench2/datasets/graphcast/2018/date_range_2017-11-16_2019-02-01_12_hours-64x32_equiangular_conservative.zarr'), \n",
    "                      xr.open_zarr('gs://weatherbench2/datasets/graphcast/2020/date_range_2019-11-16_2021-02-01_12_hours-64x32_equiangular_conservative.zarr')],\n",
    "                     dim='time')['2m_temperature']\n",
    "forecast = forecast.compute()\n",
    "forecast_done_time = time.time() - start_time\n",
    "print('forecast done in {:.2f} seconds'.format(forecast_done_time))\n",
    "\n",
    "start_time = time.time()\n",
    "# Load ERA5 data\n",
    "obs = xr.open_zarr('gs://weatherbench2/datasets/era5/1959-2023_01_10-6h-64x32_equiangular_conservative.zarr')['2m_temperature'].sel(time=slice(forecast.time[0], forecast.time[-1]+forecast.prediction_timedelta.max()))\n",
    "obs = obs.compute()\n",
    "\n",
    "obs_done_time = time.time() - start_time\n",
    "print('Obs done in {:.2f} seconds'.format(obs_done_time))"
   ]
  },
  {
   "cell_type": "code",
   "execution_count": 16,
   "id": "0d205872-e3e0-4534-9afb-e9449f26a4a7",
   "metadata": {},
   "outputs": [
    {
     "name": "stderr",
     "output_type": "stream",
     "text": [
      "100%|█████████████████████████████████████████████████████████████████████████████████████████████████████████████████████████████████████████████████████████████████████| 81920/81920 [41:56<00:00, 32.55it/s]\n"
     ]
    }
   ],
   "source": [
    "result_list = []\n",
    "\n",
    "# Automatically determine the number of workers based on CPU cores\n",
    "num_workers = int(multiprocessing.cpu_count())# * 0.75)\n",
    "\n",
    "with concurrent.futures.ProcessPoolExecutor(max_workers=num_workers) as executor, tqdm(total=len(forecast.prediction_timedelta.values) * len(forecast.latitude.values) * len(forecast.longitude.values)) as pbar:\n",
    "    futures = []\n",
    "    for lead_time in forecast.prediction_timedelta.values:\n",
    "        for lat in forecast.latitude.values:\n",
    "            for lon in forecast.longitude.values:\n",
    "                future = executor.submit(process_location, lat, lon, lead_time)\n",
    "                futures.append(future)\n",
    "\n",
    "    # Wait for all futures to complete\n",
    "    for future in concurrent.futures.as_completed(futures):\n",
    "        result_list.append(future.result())\n",
    "        pbar.update(1)\n",
    "\n",
    "executor.shutdown(wait=True)\n",
    "\n",
    "# Convert the list of dictionaries to a DataFrame\n",
    "result_df = pd.DataFrame(result_list)"
   ]
  },
  {
   "cell_type": "code",
   "execution_count": 17,
   "id": "3660716d-7d25-4063-8949-2aa6afa437fe",
   "metadata": {},
   "outputs": [],
   "source": [
    "result_df.sort_values(by=['lead_time', 'latitude', 'longitude']).reset_index(drop=True).to_pickle('EasyUQ/T2M/graphcast_2020_local.pkl')"
   ]
  },
  {
   "cell_type": "markdown",
   "id": "5dda5fb7-7eb8-49f2-a598-191604fd4074",
   "metadata": {},
   "source": [
    "## HRES"
   ]
  },
  {
   "cell_type": "code",
   "execution_count": 24,
   "id": "a8843cf5-5a1c-4cbd-9bed-8d2be8314002",
   "metadata": {},
   "outputs": [
    {
     "name": "stdout",
     "output_type": "stream",
     "text": [
      "HRES done in 370.15 seconds\n",
      "Obs done in 2.24 seconds\n"
     ]
    }
   ],
   "source": [
    "start_time = time.time()\n",
    "\n",
    "# Load HRES data\n",
    "forecast = xr.open_zarr('gs://weatherbench2/datasets/hres/2016-2022-0012-64x32_equiangular_conservative.zarr')['2m_temperature']\n",
    "forecast = forecast.compute()\n",
    "forecast_done_time = time.time() - start_time\n",
    "print('HRES done in {:.2f} seconds'.format(forecast_done_time))\n",
    "\n",
    "\n",
    "start_time = time.time()\n",
    "# Load Analysis data\n",
    "obs = xr.open_zarr('gs://weatherbench2/datasets/hres_t0/2016-2022-6h-64x32_equiangular_conservative.zarr')['2m_temperature'].sel(time=slice(forecast.time[0], forecast.time[-1]+forecast.prediction_timedelta.max()))\n",
    "obs = obs.compute()\n",
    "\n",
    "obs_done_time = time.time() - start_time\n",
    "print('Obs done in {:.2f} seconds'.format(obs_done_time))"
   ]
  },
  {
   "cell_type": "code",
   "execution_count": 25,
   "id": "fc59c593-1c73-4b98-baab-48d57fda8447",
   "metadata": {},
   "outputs": [
    {
     "name": "stderr",
     "output_type": "stream",
     "text": [
      "100%|███████████████████████████████████████████████████████████████████████████████████████████████████████████████████████████████████████████████████████████████████| 83968/83968 [1:48:01<00:00, 12.96it/s]\n"
     ]
    }
   ],
   "source": [
    "result_list = []\n",
    "\n",
    "# Automatically determine the number of workers based on CPU cores\n",
    "num_workers = int(multiprocessing.cpu_count())# * 0.75)\n",
    "\n",
    "with concurrent.futures.ProcessPoolExecutor(max_workers=num_workers) as executor, tqdm(total=len(forecast.prediction_timedelta.values) * len(forecast.latitude.values) * len(forecast.longitude.values)) as pbar:\n",
    "    futures = []\n",
    "    for lead_time in forecast.prediction_timedelta.values:\n",
    "        for lat in forecast.latitude.values:\n",
    "            for lon in forecast.longitude.values:\n",
    "                future = executor.submit(process_location, lat, lon, lead_time)\n",
    "                futures.append(future)\n",
    "\n",
    "    # Wait for all futures to complete\n",
    "    for future in concurrent.futures.as_completed(futures):\n",
    "        result_list.append(future.result())\n",
    "        pbar.update(1)\n",
    "\n",
    "executor.shutdown(wait=True)\n",
    "\n",
    "# Convert the list of dictionaries to a DataFrame\n",
    "result_df = pd.DataFrame(result_list)"
   ]
  },
  {
   "cell_type": "code",
   "execution_count": 26,
   "id": "15582b2a-1800-4a33-880f-4b4fda8d259b",
   "metadata": {},
   "outputs": [],
   "source": [
    "result_df.sort_values(by=['lead_time', 'latitude', 'longitude']).reset_index(drop=True).to_pickle('EasyUQ/T2M/hres_2020_local.pkl')"
   ]
  },
  {
   "cell_type": "markdown",
   "id": "5c99ee2b-e8d3-4068-b5da-19be7522889f",
   "metadata": {
    "tags": []
   },
   "source": [
    "# Trying Things"
   ]
  },
  {
   "cell_type": "markdown",
   "id": "6c311698-939e-4f95-a863-256435d82b11",
   "metadata": {},
   "source": [
    "## ENS"
   ]
  },
  {
   "cell_type": "code",
   "execution_count": 5,
   "id": "486cf1d4-7add-41f4-b411-bee5689d1524",
   "metadata": {},
   "outputs": [],
   "source": [
    "from properscoring import crps_ensemble"
   ]
  },
  {
   "cell_type": "code",
   "execution_count": 6,
   "id": "baf9a8ed-84da-4d5b-947f-33bc378c6850",
   "metadata": {},
   "outputs": [],
   "source": [
    "# Lead Time in ns, 6h -> 21600000000000\n",
    "lead_time = np.timedelta64(12*21600000000000,'ns')\n",
    "\n",
    "# Load IFS ENS data\n",
    "ens = xr.open_zarr('gs://weatherbench2/datasets/ens/2018-2022-64x32_equiangular_conservative.zarr')['temperature'].sel(level=850, latitude=47.8125, longitude=5.625, prediction_timedelta=lead_time, method='nearest')\n",
    "ens = ens.compute()\n",
    "# Load Analysis data\n",
    "obs = xr.open_zarr('gs://weatherbench2/datasets/hres_t0/2016-2022-6h-64x32_equiangular_conservative.zarr')['temperature'].sel(level=850, latitude=47.8125, longitude=5.625, method='nearest')\n",
    "obs= obs.sel(time=slice('2018-01-01',None))\n",
    "obs = obs.compute()\n",
    "\n",
    "# Split PANGU data into training and test sets\n",
    "ens_train = xr.concat([ens.sel(time=slice(None,'2019-12-31')), ens.sel(time=slice('2021-01-01',obs.time[-2] - pd.to_timedelta(lead_time)))], dim='time')\n",
    "ens_test = ens.sel(time=slice('2020-01-01','2020-12-31'))\n",
    "\n",
    "# Load ERA5 data\n",
    "obs_train = obs.sel(time=ens_train.time+lead_time)\n",
    "obs_test = obs.sel(time=ens_test.time+lead_time)\n",
    "\n",
    "# Extract values from datasets\n",
    "ens_train_values = ens_train.values\n",
    "ens_test_values = ens_test.values\n",
    "obs_train_values = obs_train.values\n",
    "obs_test_values = obs_test.values"
   ]
  },
  {
   "cell_type": "code",
   "execution_count": 10,
   "id": "34bb478d-b3ac-4c92-9c77-0729bfe93b66",
   "metadata": {},
   "outputs": [
    {
     "name": "stderr",
     "output_type": "stream",
     "text": [
      "100%|███████████████████████████████████████| 2905/2905 [03:59<00:00, 12.12it/s]\n"
     ]
    }
   ],
   "source": [
    "fitted_idr_icx = idr(y=obs_train_values, X=pd.DataFrame(ens_train_values), orders=dict({\"1\":\"icx\"}), max_iter = 1000, eps_rel = 0.0001, eps_abs = 0.0001)"
   ]
  },
  {
   "cell_type": "code",
   "execution_count": 12,
   "id": "cb638d66-3b70-46bf-a36e-fe9b3a2d318f",
   "metadata": {},
   "outputs": [
    {
     "name": "stdout",
     "output_type": "stream",
     "text": [
      "CRPS IDR 0.3975743214123418\n",
      "CRPS Raw 0.3784606237859674\n",
      "MAE IDR Medians 0.5402885675430298\n",
      "MAE Raw 0.5172966122627258\n"
     ]
    }
   ],
   "source": [
    "#preds_train = fitted_idr.predict(pd.DataFrame(ens_train_values))\n",
    "preds_test = fitted_idr_icx.predict(pd.DataFrame(ens_test_values))\n",
    "\n",
    "#medians\n",
    "upper = np.argmax(preds_test.cdf(fitted_idr_icx.thresholds) > 0.5, axis=1)\n",
    "lower = np.full(len(obs_test_values), len(fitted_idr_icx.thresholds)-1) - np.argmax((preds_test.cdf(fitted_idr_icx.thresholds) < 0.5)[:, ::-1],axis=1)\n",
    "\n",
    "too_low_indices = np.where(preds_test.cdf(fitted_idr_icx.thresholds)[:, 0] >= 0.5)[0]\n",
    "too_low_array = np.zeros(len(obs_test_values))\n",
    "too_low_array[too_low_indices] = 1\n",
    "\n",
    "too_high_indices = np.where(preds_test.cdf(fitted_idr_icx.thresholds)[:, -1] <= 0)[0]\n",
    "too_high_array = np.zeros(len(obs_test_values))\n",
    "too_high_array[too_high_indices] = 1\n",
    "\n",
    "combined_array = np.column_stack((preds_test.cdf(fitted_idr_icx.thresholds), upper, lower, too_low_array, too_high_array))\n",
    "medians_idr = np.apply_along_axis(calculate_median_threshold, axis=1, arr=combined_array, thresholds=fitted_idr_icx.thresholds)\n",
    "\n",
    "# Calculate IDR CRPS, MAE and MSE for deterministic forecast\n",
    "crps_idr = np.mean(preds_test.crps(obs_test_values))\n",
    "crps_raw = np.mean(crps_ensemble(obs_test, ens_test))\n",
    "mae_idr = np.mean(np.abs(medians_idr - obs_test_values))\n",
    "mae_det = np.mean(np.abs(np.median(ens_test_values, axis=1) - obs_test_values))\n",
    "\n",
    "print(f'CRPS IDR {crps_idr}')\n",
    "print(f'CRPS Raw {crps_raw}')\n",
    "print(f'MAE IDR Medians {mae_idr}')\n",
    "print(f'MAE Raw {mae_det}')"
   ]
  },
  {
   "cell_type": "code",
   "execution_count": null,
   "id": "b5d5858d-d20e-4401-a734-0b2f384f01ef",
   "metadata": {},
   "outputs": [],
   "source": [
    "fitted_idr = idr(y=obs_train_values, X=pd.DataFrame(ens_train_values), orders=dict({\"1\":\"sd\"}))"
   ]
  },
  {
   "cell_type": "code",
   "execution_count": null,
   "id": "020908f6-5e1c-4833-b6db-f9e8a675c6d1",
   "metadata": {},
   "outputs": [],
   "source": [
    "#preds_train = fitted_idr.predict(pd.DataFrame(ens_train_values))\n",
    "preds_test = fitted_idr.predict(pd.DataFrame(ens_test_values))\n",
    "\n",
    "#medians\n",
    "upper = np.argmax(preds_test.cdf(fitted_idr.thresholds) > 0.5, axis=1)\n",
    "lower = np.full(len(obs_test_values), len(fitted_idr.thresholds)-1) - np.argmax((preds_test.cdf(fitted_idr.thresholds) < 0.5)[:, ::-1],axis=1)\n",
    "\n",
    "too_low_indices = np.where(preds_test.cdf(fitted_idr.thresholds)[:, 0] >= 0.5)[0]\n",
    "too_low_array = np.zeros(len(obs_test_values))\n",
    "too_low_array[too_low_indices] = 1\n",
    "\n",
    "too_high_indices = np.where(preds_test.cdf(fitted_idr.thresholds)[:, -1] <= 0)[0]\n",
    "too_high_array = np.zeros(len(obs_test_values))\n",
    "too_high_array[too_high_indices] = 1\n",
    "\n",
    "combined_array = np.column_stack((preds_test.cdf(fitted_idr.thresholds), upper, lower, too_low_array, too_high_array))\n",
    "medians_idr = np.apply_along_axis(calculate_median_threshold, axis=1, arr=combined_array, thresholds=fitted_idr.thresholds)\n",
    "\n",
    "# Calculate IDR CRPS, MAE and MSE for deterministic forecast\n",
    "crps_idr = np.mean(preds_test.crps(obs_test_values))\n",
    "crps_raw = np.mean(crps_ensemble(obs_test, ens_test))\n",
    "mae_idr = np.mean(np.abs(medians_idr - obs_test_values))\n",
    "mae_raw = np.mean(np.abs(np.median(ens_test_values, axis=1) - obs_test_values))\n",
    "\n",
    "print(f'CRPS IDR {crps_idr}')\n",
    "print(f'CRPS Raw {crps_raw}')\n",
    "print(f'MAE IDR Meadians {mae_idr}')\n",
    "print(f'MAE Raw {mae_raw}')"
   ]
  },
  {
   "cell_type": "markdown",
   "id": "e38e314a-16d0-4b11-a1e3-3c7407ea4977",
   "metadata": {},
   "source": [
    "## Subagging"
   ]
  },
  {
   "cell_type": "code",
   "execution_count": 79,
   "id": "5bf1cb30-4aeb-4513-96b7-d4913eddbe06",
   "metadata": {},
   "outputs": [],
   "source": [
    "#import osqp\n",
    "#from scipy import sparse\n",
    "\n",
    "# Python code adapted from R Code from Alexander Henzi\n",
    "\n",
    "def idrbag(y, X, groups=None, orders={1:\"comp\"}, verbose=False, max_iter=10000, eps_rel=0.00001,\n",
    "           eps_abs=0.00001, progress=True, newdata=None, digits=3, interpolation=\"linear\", b=None,\n",
    "           p=None, replace=False, grid=None):\n",
    "    \"\"\"\n",
    "    Compute IDR predictions with (su)bagging.\n",
    "\n",
    "    Parameters\n",
    "    ----------\n",
    "    y : np.array\n",
    "        One-dimensional array (response variable).\n",
    "    X : pd.DataFrame\n",
    "        Data frame of variables (regression covariates).\n",
    "    groups : dict\n",
    "        Denoting groups of variables that are to be ordered with the same order.\n",
    "        Only relevant if X contains more than one variable.\n",
    "        The default uses one group for all variables.\n",
    "    orders : dict\n",
    "        Denotes the order that is applied to a group.\n",
    "        Only relevant if X contains more than one variable.\n",
    "        The default is dict({\"1\":\"comp\"}).\n",
    "    verbose : bool\n",
    "        Print output of OSQP solver. The default is False.\n",
    "    max_iter : int\n",
    "        Maximum number of iterations.\n",
    "    eps_rel : float\n",
    "        Relative tolerance.\n",
    "    eps_abs : float\n",
    "        Absolute tolerance.\n",
    "    progress : bool\n",
    "        Show progress bar. The default is True.\n",
    "    newdata : pd.DataFrame\n",
    "        Data frame containing variables with which to predict.\n",
    "    digits : int\n",
    "        Number of decimal places for the predictive CDF.\n",
    "    interpolation : str\n",
    "        Interpolation method for univariate data. Default is \"linear\".\n",
    "    b : int\n",
    "        Number of (su)bagging samples.\n",
    "    p : float\n",
    "        Size of (su)bagging samples relative to training data.\n",
    "    replace : bool\n",
    "        Draw samples with (True) or without (False) replacement.\n",
    "    grid : np.array\n",
    "        Grid on which the predictive CDFs are evaluated. Default are\n",
    "        the unique values of `y`.\n",
    "\n",
    "    Returns\n",
    "    -------\n",
    "    list\n",
    "        A list of predictions.\n",
    "\n",
    "    Notes\n",
    "    -----\n",
    "    This function draws `b` times a random subsample of size\n",
    "    `ceiling(nrow(X)*p)` from the training data, fits IDR to each\n",
    "    subsample, computes predictions for the new data supplied in `newdata`,\n",
    "    and averages the predictions derived from the `b` subsamples.\n",
    "    \"\"\"\n",
    "    if not isinstance(X, pd.DataFrame):\n",
    "        raise ValueError(\"X must be a pandas data frame\")\n",
    "\n",
    "    if groups is None:\n",
    "        groups = dict(zip(X.columns, np.ones(X.shape[1])))\n",
    "\n",
    "    y = np.asarray(y)\n",
    "\n",
    "    if y.ndim > 1:\n",
    "        raise ValueError('idr only handles 1-D arrays of observations')\n",
    "\n",
    "    if X.shape[0] <= 1:\n",
    "        raise ValueError('X must have more than 1 row')\n",
    "\n",
    "    if np.isnan(np.sum(y)) == True:\n",
    "        raise ValueError(\"y contains nan values\")\n",
    "\n",
    "    if X.isnull().values.any() == True:\n",
    "        raise ValueError(\"X contains nan values\")\n",
    "\n",
    "    if y.size != X.shape[0]:\n",
    "        raise ValueError(\"length of y must match the number of rows in X\")\n",
    "\n",
    "    if all(item in ['comp', 'icx', 'sd'] for item in orders.values()) == False:\n",
    "        raise ValueError(\"orders must be in comp, icx, sd\")\n",
    "\n",
    "    if newdata is not None and not isinstance(newdata, pd.DataFrame):\n",
    "        raise ValueError(\"'newdata' must be a pandas data frame\")\n",
    "\n",
    "    N = len(y)\n",
    "\n",
    "    if b is None or not isinstance(b, int) or b < 1 or b > N:\n",
    "        raise ValueError(\"'b' must be a positive integer smaller than length(y)\")\n",
    "\n",
    "    if p is None or not isinstance(p, float) or p <= 0 or p >= 1:\n",
    "        raise ValueError(\"'p' must be a number in (0, 1)\")\n",
    "\n",
    "    if isinstance(replace, bool):\n",
    "        replace = 1 if replace else 0\n",
    "    elif not isinstance(replace, (int, np.int64)):\n",
    "        raise ValueError(\"'replace' must be True/False or 1/0\")\n",
    "\n",
    "    if isinstance(progress, bool):\n",
    "        progress = 1 if progress else 0\n",
    "    elif not isinstance(progress, (int, np.int64)):\n",
    "        raise ValueError(\"'progress' must be True/False or 1/0\")\n",
    "\n",
    "    if grid is None:\n",
    "        grid = np.sort(np.unique(y))\n",
    "    elif not isinstance(grid, np.ndarray) or grid.dtype.type not in [np.float64, np.int64, np.float32]: # added np.float32\n",
    "        raise ValueError(\"'grid' must be a numeric array or None\")\n",
    "\n",
    "    n = int(np.ceil(p * N))\n",
    "    m = len(grid)\n",
    "    preds = np.zeros((len(newdata), m), dtype=np.float32)\n",
    "    #crps = np.zeros((len(newy),b))\n",
    "\n",
    "    for i in tqdm(range(b), disable=not progress):\n",
    "        s = np.random.choice(N, n, replace=replace)\n",
    "        ys = y[s]\n",
    "        ysunique = np.unique(ys)\n",
    "\n",
    "        if len(ysunique) == 1:\n",
    "            pos = np.searchsorted(grid, ysunique)\n",
    "            if pos > 0:\n",
    "                cdf[:, :pos] += 1\n",
    "        else:\n",
    "            fit = idr(y=ys, X=X.iloc[s, :], groups=groups, orders=orders, verbose=verbose,\n",
    "                      max_iter=max_iter, eps_rel=eps_rel, eps_abs=eps_abs, progress=False)\n",
    "            preds += fit.predict(data=newdata, digits=digits).cdf(grid)\n",
    "    \n",
    "    preds = np.round(preds / b, digits)\n",
    "    preds = [pd.DataFrame({\"points\": grid[(dat > 0) & (dat < 1)], \"ecdf\": dat[(dat > 0) & (dat < 1)]}) for dat in preds]\n",
    "\n",
    "    return preds"
   ]
  },
  {
   "cell_type": "code",
   "execution_count": 37,
   "id": "b07c0869-d98c-43a3-9898-a00582804d48",
   "metadata": {},
   "outputs": [
    {
     "name": "stderr",
     "output_type": "stream",
     "text": [
      "100%|█████████████████████████████████████████| 100/100 [00:13<00:00,  7.16it/s]\n"
     ]
    }
   ],
   "source": [
    "preds = idrbag(obs_train_values, pd.DataFrame({\"forecast\": pangu_train_values}, columns=[\"forecast\"]), newdata=pd.DataFrame({\"forecast\": pangu_test_values}, columns=[\"forecast\"]), b=100, p=0.5)"
   ]
  },
  {
   "cell_type": "code",
   "execution_count": 38,
   "id": "bfa9c3f1-7c8c-4404-b021-2a68631d4bf3",
   "metadata": {},
   "outputs": [],
   "source": [
    "def get_points(predictions):\n",
    "    return np.array(predictions.points)\n",
    "def get_cdf(predictions):\n",
    "    return np.array(predictions.ecdf)\n",
    "def modify_points(points):\n",
    "    return np.hstack([points[0], np.diff(points)])\n",
    "def crps0(y, p, w, x):\n",
    "    return 2*np.sum(w*(np.array((y<x))-p+0.5*w)*np.array(x-y))\n",
    "\n",
    "def cal_crps(preds, obs):\n",
    "    p = list(map(get_cdf, preds))\n",
    "    w = list(map(modify_points, p))\n",
    "    x = list(map(get_points, preds))\n",
    "\n",
    "    return list(map(crps0, obs, p, w, x))"
   ]
  },
  {
   "cell_type": "code",
   "execution_count": 39,
   "id": "fd025799-ba9d-4dd7-81d5-12780080e8e5",
   "metadata": {},
   "outputs": [
    {
     "data": {
      "text/plain": [
       "0.799549310991923"
      ]
     },
     "execution_count": 39,
     "metadata": {},
     "output_type": "execute_result"
    }
   ],
   "source": [
    "np.mean(cal_crps(preds, obs_test_values))"
   ]
  },
  {
   "cell_type": "markdown",
   "id": "d6a34bba-9c15-46d9-833a-0e1a3bd7c3af",
   "metadata": {},
   "source": [
    "# Simulation Example"
   ]
  },
  {
   "cell_type": "code",
   "execution_count": 6,
   "id": "7f5a50f1-899e-431c-8b09-c29ecce99b81",
   "metadata": {},
   "outputs": [],
   "source": [
    "# Simulate data\n",
    "n = 1000\n",
    "forecast = np.random.uniform(low=0.0, high=10.0, size=n)\n",
    "y_true = np.random.gamma(shape = np.sqrt(forecast), scale=np.minimum(np.maximum(forecast, 2), 8), size=n)  "
   ]
  },
  {
   "cell_type": "code",
   "execution_count": 9,
   "id": "374a4ace-f9d3-4230-bd73-a5e0b5f2c8d5",
   "metadata": {},
   "outputs": [],
   "source": [
    "# Divide into train and test: 80 / 20\n",
    "split_ix = int(np.floor(n * 0.8))\n",
    "ix_data = np.arange(n)\n",
    "random.shuffle(ix_data)\n",
    "forecast_train = forecast[:split_ix]\n",
    "forecast_test = forecast[split_ix:]\n",
    "y_true_train = y_true[:split_ix]\n",
    "y_true_test = y_true[split_ix:]"
   ]
  },
  {
   "cell_type": "code",
   "execution_count": 10,
   "id": "11129bfb-3217-417d-b6fe-65bc19044c95",
   "metadata": {},
   "outputs": [],
   "source": [
    "# Fit EasyUQ\n",
    "fitted_idr = idr(y_true_train, pd.DataFrame({\"fore\": forecast_train}, columns=[\"fore\"]))\n",
    "preds_train = fitted_idr.predict(pd.DataFrame({\"fore\": forecast_train}, columns=[\"fore\"]))\n",
    "preds_test = fitted_idr.predict(pd.DataFrame({\"fore\": forecast_test}, columns=[\"fore\"]))"
   ]
  },
  {
   "cell_type": "code",
   "execution_count": 11,
   "id": "5e19251e-e304-4485-b5b4-2a4d803beff4",
   "metadata": {},
   "outputs": [
    {
     "data": {
      "image/png": "[encoded data removed]",
      "text/plain": [
       "<Figure size 1152x720 with 1 Axes>"
      ]
     },
     "metadata": {
      "needs_background": "light"
     },
     "output_type": "display_data"
    }
   ],
   "source": [
    "x_bla = np.array([2,4,6,8])\n",
    "bla = fitted_idr.predict(pd.DataFrame({\"fore\": x_bla}, columns=[\"fore\"]))\n",
    "\n",
    "# Parameters of the gamma distribution\n",
    "shape = np.sqrt(x_bla)  # shape parameter (k)\n",
    "scale = x_bla  # scale parameter (theta)\n",
    "\n",
    "# Generate values for x\n",
    "x = np.linspace(0, 60, 1000)\n",
    "\n",
    "# Calculate the cumulative distribution function (CDF) values\n",
    "cdf_values_list = []\n",
    "for i in range(len(x_bla)):\n",
    "    cdf_values_list.append(gamma.cdf(x, a=shape[i], scale=scale[i]))\n",
    "\n",
    "plt.figure(figsize=(16, 10))\n",
    "\n",
    "# Plot the CDF\n",
    "for i in range(len(x_bla)):\n",
    "    plt.plot(x, cdf_values_list[i], label=f'x = {x_bla[i]}', color='orange')\n",
    "    bla.plot(index=i)\n",
    "\n",
    "# Get the current Axes instance\n",
    "ax = plt.gca()\n",
    "\n",
    "# Find the legend and add a new label for the last line (predictions)\n",
    "legend = ax.legend()\n",
    "legend_texts = legend.get_texts()\n",
    "legend_texts.extend(['bla'])\n",
    "\n",
    "#plt.title('CDF')\n",
    "plt.xlabel('y')\n",
    "plt.ylabel('$F_x(y)$')\n",
    "plt.legend()\n",
    "plt.grid(True)\n",
    "plt.show()"
   ]
  },
  {
   "cell_type": "code",
   "execution_count": 21,
   "id": "6318e823-9abb-4643-9211-072e0f2be8a9",
   "metadata": {},
   "outputs": [
    {
     "data": {
      "image/png": "[encoded data removed]",
      "text/plain": [
       "<Figure size 1152x720 with 1 Axes>"
      ]
     },
     "metadata": {
      "needs_background": "light"
     },
     "output_type": "display_data"
    }
   ],
   "source": [
    "plt.rcParams.update({'font.size': 22})\n",
    "\n",
    "i=6\n",
    "\n",
    "plt.figure(figsize=(16, 10))\n",
    "\n",
    "# Parameters of the gamma distribution\n",
    "shape = np.sqrt(forecast_test[i])  # shape parameter (k)\n",
    "scale = forecast_test[i]  # scale parameter (theta)\n",
    "\n",
    "# Generate values for x\n",
    "x = np.linspace(0, 60, 1000)\n",
    "\n",
    "# Calculate the cumulative distribution function (CDF) values\n",
    "cdf_values = gamma.cdf(x, a=shape, scale=scale)\n",
    "\n",
    "# Placeholder plot for preds_test[i].plot() with label=None\n",
    "plt.plot([], [], label='Placeholder')\n",
    "preds_test.plot(index=i, bounds=False, col_cdf ='C0')\n",
    "\n",
    "# Get the current Axes instance\n",
    "ax = plt.gca()\n",
    "\n",
    "xlim = ax.get_xlim()[1]\n",
    "\n",
    "# Plot the CDF\n",
    "plt.plot(x, cdf_values, label=f'True Distribution', color='orange')\n",
    "plt.axvline(y_true_test[i], label='True Value', color='red')\n",
    "\n",
    "# Find the legend and add a new label for the last line (predictions)\n",
    "legend = ax.legend()\n",
    "legend_texts = legend.get_texts()\n",
    "legend_texts[0].set_text(f'Predicted Distribution')\n",
    "\n",
    "# Add CRPS information in a box\n",
    "crps_value = np.round(preds_test.crps(y_true_test)[i],4)\n",
    "box_props = dict(facecolor='white', alpha=0.2)\n",
    "ax.text(0.85, 0.1, f'CRPS = {crps_value}', transform=ax.transAxes, bbox=box_props, ha='center', fontsize=22)\n",
    "\n",
    "#plt.title('CDF')\n",
    "plt.xlabel('y')\n",
    "plt.ylabel('$F_x(y)$')\n",
    "plt.xlim(-(xlim/50),xlim+(xlim/50))\n",
    "plt.grid(True)\n",
    "plt.show()"
   ]
  },
  {
   "cell_type": "code",
   "execution_count": 13,
   "id": "95220eba-aa8e-40da-9c3f-6de9b6c9290f",
   "metadata": {},
   "outputs": [
    {
     "data": {
      "text/plain": [
       "(array([27., 15., 25., 10., 19., 22., 18., 29., 17., 18.]),\n",
       " array([0. , 0.1, 0.2, 0.3, 0.4, 0.5, 0.6, 0.7, 0.8, 0.9, 1. ]),\n",
       " <BarContainer object of 10 artists>)"
      ]
     },
     "execution_count": 13,
     "metadata": {},
     "output_type": "execute_result"
    },
    {
     "data": {
      "image/png": "[encoded data removed]",
      "text/plain": [
       "<Figure size 432x288 with 1 Axes>"
      ]
     },
     "metadata": {
      "needs_background": "light"
     },
     "output_type": "display_data"
    }
   ],
   "source": [
    "plt.hist(preds_test.pit(y_true_test))"
   ]
  },
  {
   "cell_type": "code",
   "execution_count": 14,
   "id": "0c086245-5b13-41cc-b2f4-e93e74eb1b10",
   "metadata": {},
   "outputs": [
    {
     "name": "stdout",
     "output_type": "stream",
     "text": [
      "Mean CRPS: 4.2525299737314155\n"
     ]
    }
   ],
   "source": [
    "crps_idr = np.mean(preds_test.crps(y_true_test))\n",
    "print(f'Mean CRPS: {crps_idr}')"
   ]
  }
 ],
 "metadata": {
  "kernelspec": {
   "display_name": "Python 3 (ipykernel)",
   "language": "python",
   "name": "python3"
  },
  "language_info": {
   "codemirror_mode": {
    "name": "ipython",
    "version": 3
   },
   "file_extension": ".py",
   "mimetype": "text/x-python",
   "name": "python",
   "nbconvert_exporter": "python",
   "pygments_lexer": "ipython3",
   "version": "3.9.7"
  }
 },
 "nbformat": 4,
 "nbformat_minor": 5
}
